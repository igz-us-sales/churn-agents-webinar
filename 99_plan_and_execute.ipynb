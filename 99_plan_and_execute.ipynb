{
 "cells": [
  {
   "cell_type": "markdown",
   "id": "0b700632-fbcf-4e77-b2f1-9197badd8a51",
   "metadata": {},
   "source": [
    "# Plan and Execute Agent"
   ]
  },
  {
   "cell_type": "markdown",
   "id": "1c220cf7-bbf0-47a9-a989-f690d99ba8ec",
   "metadata": {},
   "source": [
    "Based on [Langgraph's Plan-and-Execute documentation](https://langchain-ai.github.io/langgraph/tutorials/plan-and-execute/plan-and-execute/)"
   ]
  },
  {
   "cell_type": "code",
   "execution_count": 16,
   "id": "72f46f92-e2c7-461c-8f50-721362a091ac",
   "metadata": {},
   "outputs": [],
   "source": [
    "from langchain import hub\n",
    "from langchain_openai import ChatOpenAI\n",
    "from langchain_community.tools import DuckDuckGoSearchRun\n",
    "\n",
    "from langgraph.prebuilt import create_react_agent\n",
    "\n",
    "from dotenv import load_dotenv\n",
    "\n",
    "load_dotenv()\n",
    "\n",
    "import warnings\n",
    "warnings.filterwarnings('ignore')"
   ]
  },
  {
   "cell_type": "markdown",
   "id": "6b2d72ee-9a29-42ed-acbb-b7a6670cca58",
   "metadata": {},
   "source": [
    "### Define Tools"
   ]
  },
  {
   "cell_type": "code",
   "execution_count": 6,
   "id": "fb429140-7126-4d0a-9084-86599bc5840b",
   "metadata": {},
   "outputs": [],
   "source": [
    "tools = [DuckDuckGoSearchRun()]"
   ]
  },
  {
   "cell_type": "markdown",
   "id": "bd1b509b-43e4-47f9-9ae0-2c3170001c49",
   "metadata": {},
   "source": [
    "### Define Execution Agent"
   ]
  },
  {
   "cell_type": "code",
   "execution_count": 18,
   "id": "c22f30e4-7bde-402d-a818-19a022feb614",
   "metadata": {
    "tags": []
   },
   "outputs": [
    {
     "name": "stdout",
     "output_type": "stream",
     "text": [
      "================================\u001b[1m System Message \u001b[0m================================\n",
      "\n",
      "You are a helpful assistant.\n",
      "\n",
      "=============================\u001b[1m Messages Placeholder \u001b[0m=============================\n",
      "\n",
      "\u001b[33;1m\u001b[1;3m{messages}\u001b[0m\n"
     ]
    }
   ],
   "source": [
    "prompt = hub.pull(\"ih/ih-react-agent-executor\")\n",
    "prompt.pretty_print()\n",
    "\n",
    "llm = ChatOpenAI(name=\"gpt-4o-mini\", temperature=0)\n",
    "agent_executor = create_react_agent(llm, tools, state_modifier=prompt)"
   ]
  },
  {
   "cell_type": "markdown",
   "id": "20e0225b-7bf7-4b9d-a0c8-b6e9ba0e3a07",
   "metadata": {},
   "source": [
    "### Define State"
   ]
  },
  {
   "cell_type": "code",
   "execution_count": 8,
   "id": "2953d58d-8984-4798-bb33-7f05788c8ebe",
   "metadata": {},
   "outputs": [],
   "source": [
    "import operator\n",
    "from typing import Annotated, List, Tuple\n",
    "from typing_extensions import TypedDict\n",
    "\n",
    "\n",
    "class PlanExecute(TypedDict):\n",
    "    input: str\n",
    "    plan: List[str]\n",
    "    past_steps: Annotated[List[Tuple], operator.add]\n",
    "    response: str"
   ]
  },
  {
   "cell_type": "markdown",
   "id": "8a3e05f8-e01e-4ecb-a43f-d226f19fe3f3",
   "metadata": {},
   "source": [
    "### Planning Step"
   ]
  },
  {
   "cell_type": "code",
   "execution_count": 9,
   "id": "1fada376-a462-45d1-b177-d168f7abb41a",
   "metadata": {},
   "outputs": [],
   "source": [
    "from pydantic import BaseModel, Field\n",
    "\n",
    "\n",
    "class Plan(BaseModel):\n",
    "    \"\"\"Plan to follow in future\"\"\"\n",
    "\n",
    "    steps: List[str] = Field(\n",
    "        description=\"different steps to follow, should be in sorted order\"\n",
    "    )"
   ]
  },
  {
   "cell_type": "code",
   "execution_count": 10,
   "id": "2bc77353-62a2-4ef1-84fd-34964e1fd8e4",
   "metadata": {},
   "outputs": [],
   "source": [
    "from langchain_core.prompts import ChatPromptTemplate\n",
    "\n",
    "planner_prompt = ChatPromptTemplate.from_messages(\n",
    "    [\n",
    "        (\n",
    "            \"system\",\n",
    "            \"\"\"For the given objective, come up with a simple step by step plan. \\\n",
    "This plan should involve individual tasks, that if executed correctly will yield the correct answer. Do not add any superfluous steps. \\\n",
    "The result of the final step should be the final answer. Make sure that each step has all the information needed - do not skip steps.\n",
    "\"\"\",\n",
    "        ),\n",
    "        (\"placeholder\", \"{messages}\"),\n",
    "    ]\n",
    ")\n",
    "planner = planner_prompt | ChatOpenAI(\n",
    "    model=\"gpt-4o-mini\", temperature=0\n",
    ").with_structured_output(Plan)"
   ]
  },
  {
   "cell_type": "markdown",
   "id": "196049b0-688c-4e2a-9e6f-5d9f05d497ae",
   "metadata": {},
   "source": [
    "### Re-Plan Step"
   ]
  },
  {
   "cell_type": "code",
   "execution_count": 11,
   "id": "2364c9b8-cf05-4770-a8e1-29e78486f5d6",
   "metadata": {},
   "outputs": [],
   "source": [
    "from typing import Union\n",
    "\n",
    "\n",
    "class Response(BaseModel):\n",
    "    \"\"\"Response to user.\"\"\"\n",
    "\n",
    "    response: str\n",
    "\n",
    "\n",
    "class Act(BaseModel):\n",
    "    \"\"\"Action to perform.\"\"\"\n",
    "\n",
    "    action: Union[Response, Plan] = Field(\n",
    "        description=\"Action to perform. If you want to respond to user, use Response. \"\n",
    "        \"If you need to further use tools to get the answer, use Plan.\"\n",
    "    )\n",
    "\n",
    "\n",
    "replanner_prompt = ChatPromptTemplate.from_template(\n",
    "    \"\"\"\n",
    "    **Objective**:\n",
    "    {input}\n",
    "\n",
    "    **Original Plan**:\n",
    "    {plan}\n",
    "\n",
    "    **Completed Steps**:\n",
    "    {past_steps}\n",
    "\n",
    "    **Instructions**:\n",
    "    - If there are more steps needed to achieve the objective, return a **Plan** with the remaining steps.\n",
    "    - If all necessary steps have been completed, return a **Response** to the user based on the information gathered.\n",
    "    - Do **not** include any steps that have already been completed in the new plan.\n",
    "    - Do **not** return an empty plan; if no further steps are needed, you **must** return a **Response**.\n",
    "    - Ensure your output is in the correct structured format as per the `Act` model.\n",
    "\n",
    "    **Remember**:\n",
    "    - The `Act` can be either a `Plan` or a `Response`.\n",
    "    - A `Plan` contains a list of steps that still need to be done.\n",
    "    - A `Response` contains the final answer to the user.\n",
    "\n",
    "    **Provide your output below:**\n",
    "    \"\"\"\n",
    ")\n",
    "\n",
    "\n",
    "replanner = replanner_prompt | ChatOpenAI(\n",
    "    model=\"gpt-4o-mini\", temperature=0\n",
    ").with_structured_output(Act)"
   ]
  },
  {
   "cell_type": "markdown",
   "id": "f9ceb691-0e74-4482-8f5b-b0b40518a5e3",
   "metadata": {},
   "source": [
    "### Create Graph"
   ]
  },
  {
   "cell_type": "code",
   "execution_count": 12,
   "id": "3fe40cb6-b519-4d54-8d3b-7b0b8cc66023",
   "metadata": {},
   "outputs": [],
   "source": [
    "from typing import Literal\n",
    "from langgraph.graph import END\n",
    "\n",
    "\n",
    "async def execute_step(state: PlanExecute):\n",
    "    plan = state[\"plan\"]\n",
    "    plan_str = \"\\n\".join(f\"{i+1}. {step}\" for i, step in enumerate(plan))\n",
    "    task = plan[0]\n",
    "    task_formatted = f\"\"\"For the following plan:\n",
    "{plan_str}\\n\\nYou are tasked with executing step {1}, {task}.\"\"\"\n",
    "    agent_response = await agent_executor.ainvoke(\n",
    "        {\"messages\": [(\"user\", task_formatted)]}\n",
    "    )\n",
    "    return {\n",
    "        \"past_steps\": [(task, agent_response[\"messages\"][-1].content)],\n",
    "    }\n",
    "\n",
    "\n",
    "async def plan_step(state: PlanExecute):\n",
    "    plan = await planner.ainvoke({\"messages\": [(\"user\", state[\"input\"])]})\n",
    "    return {\"plan\": plan.steps}\n",
    "\n",
    "\n",
    "async def replan_step(state: PlanExecute):\n",
    "    output = await replanner.ainvoke(state)\n",
    "    if isinstance(output.action, Response):\n",
    "        return {\"response\": output.action.response}\n",
    "    else:\n",
    "        return {\"plan\": output.action.steps}\n",
    "\n",
    "\n",
    "def should_end(state: PlanExecute):\n",
    "    if \"response\" in state and state[\"response\"]:\n",
    "        return END\n",
    "    else:\n",
    "        return \"agent\""
   ]
  },
  {
   "cell_type": "code",
   "execution_count": 13,
   "id": "8357c757-f018-4783-aa01-1a0a5c287f13",
   "metadata": {},
   "outputs": [],
   "source": [
    "from langgraph.graph import StateGraph, START\n",
    "\n",
    "workflow = StateGraph(PlanExecute)\n",
    "\n",
    "# Add the plan node\n",
    "workflow.add_node(\"planner\", plan_step)\n",
    "\n",
    "# Add the execution step\n",
    "workflow.add_node(\"agent\", execute_step)\n",
    "\n",
    "# Add a replan node\n",
    "workflow.add_node(\"replan\", replan_step)\n",
    "\n",
    "workflow.add_edge(START, \"planner\")\n",
    "\n",
    "# From plan we go to agent\n",
    "workflow.add_edge(\"planner\", \"agent\")\n",
    "\n",
    "# From agent, we replan\n",
    "workflow.add_edge(\"agent\", \"replan\")\n",
    "\n",
    "workflow.add_conditional_edges(\n",
    "    \"replan\",\n",
    "    # Next, we pass in the function that will determine which node is called next.\n",
    "    should_end,\n",
    "    [\"agent\", END],\n",
    ")\n",
    "\n",
    "# Finally, we compile it!\n",
    "# This compiles it into a LangChain Runnable,\n",
    "# meaning you can use it as you would any other runnable\n",
    "app = workflow.compile()"
   ]
  },
  {
   "cell_type": "code",
   "execution_count": 14,
   "id": "82df888e-ad07-4de4-8ca8-b45858cd65d3",
   "metadata": {},
   "outputs": [
    {
     "data": {
      "image/jpeg": "[encoded data removed]",
      "text/plain": [
       "<IPython.core.display.Image object>"
      ]
     },
     "metadata": {},
     "output_type": "display_data"
    }
   ],
   "source": [
    "from IPython.display import Image, display\n",
    "\n",
    "display(Image(app.get_graph(xray=True).draw_mermaid_png()))"
   ]
  },
  {
   "cell_type": "markdown",
   "id": "6a2e72fa-2693-40a5-bb50-7c3d5f8d6b33",
   "metadata": {},
   "source": [
    "### Test Agent"
   ]
  },
  {
   "cell_type": "code",
   "execution_count": 17,
   "id": "9ff3e47d-7b80-4dfb-810f-fd607dc54e23",
   "metadata": {},
   "outputs": [
    {
     "name": "stdout",
     "output_type": "stream",
     "text": [
      "{'plan': [\"Identify the winner of the 2020 Australian Open men's singles.\", \"Find out the name of the winner's wife.\", \"Determine the hometown of the winner's wife.\", 'Look up the population of that hometown.']}\n",
      "{'past_steps': [(\"Identify the winner of the 2020 Australian Open men's singles.\", \"The winner of the 2020 Australian Open men's singles was Novak Djokovic.\")]}\n",
      "{'plan': [\"Find out the name of Novak Djokovic's wife.\", \"Determine the hometown of Novak Djokovic's wife.\", 'Look up the population of that hometown.']}\n",
      "{'past_steps': [(\"Find out the name of Novak Djokovic's wife.\", \"Novak Djokovic's wife is Jelena Djokovic (née Ristic).\")]}\n",
      "{'plan': ['Determine the hometown of Jelena Djokovic.', 'Look up the population of that hometown.']}\n",
      "{'past_steps': [('Determine the hometown of Jelena Djokovic.', \"Jelena Djokovic's hometown is Belgrade, Serbia.\")]}\n",
      "{'plan': ['Look up the population of Belgrade, Serbia.']}\n",
      "{'past_steps': [('Look up the population of Belgrade, Serbia.', 'The population of Belgrade, Serbia is approximately 1,685,563 according to the 2022 census.')]}\n",
      "{'response': 'The population of Belgrade, Serbia is approximately 1,685,563 according to the 2022 census.'}\n"
     ]
    }
   ],
   "source": [
    "config = {\"recursion_limit\": 50}\n",
    "inputs = {\"input\": \"what is population of the hometown of the wife of the mens 2020 Australia open winner?\"}\n",
    "async for event in app.astream(inputs, config=config):\n",
    "    for k, v in event.items():\n",
    "        if k != \"__end__\":\n",
    "            print(v)"
   ]
  }
 ],
 "metadata": {
  "kernelspec": {
   "display_name": "churn",
   "language": "python",
   "name": "conda-env-.conda-churn-py"
  },
  "language_info": {
   "codemirror_mode": {
    "name": "ipython",
    "version": 3
   },
   "file_extension": ".py",
   "mimetype": "text/x-python",
   "name": "python",
   "nbconvert_exporter": "python",
   "pygments_lexer": "ipython3",
   "version": "3.9.21"
  }
 },
 "nbformat": 4,
 "nbformat_minor": 5
}
