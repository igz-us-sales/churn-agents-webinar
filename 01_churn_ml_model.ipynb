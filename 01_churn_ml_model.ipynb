{
 "cells": [
  {
   "cell_type": "code",
   "execution_count": 1,
   "id": "77b6b4e1-185f-4220-9308-209a4eff9235",
   "metadata": {},
   "outputs": [],
   "source": [
    "import mlrun"
   ]
  },
  {
   "cell_type": "code",
   "execution_count": 59,
   "id": "63ef11b7-e480-4d86-b40d-9cf976ef5a1c",
   "metadata": {},
   "outputs": [
    {
     "name": "stdout",
     "output_type": "stream",
     "text": [
      "Project Source: v3io:///bigdata/testing1234.zip\n",
      "Exporting project as zip archive to v3io:///bigdata/testing1234.zip...\n",
      "> 2025-01-07 23:46:52,702 [info] Project loaded successfully: {\"project_name\":\"heart-disease-classifier\"}\n"
     ]
    }
   ],
   "source": [
    "project = mlrun.get_or_create_project(\n",
    "    \"heart-disease-classifier\",\n",
    "    parameters={\n",
    "        \"base_image\" : \"mlrun/mlrun\",\n",
    "        \"requirements_file\" : \"requirements.txt\",\n",
    "        \"force_build\" : False,\n",
    "        \"source\" : \"v3io:///bigdata/testing1234.zip\"\n",
    "    }\n",
    ")"
   ]
  },
  {
   "cell_type": "code",
   "execution_count": 20,
   "id": "50a789b4-02ae-41ba-bef6-fdf4a4e41c18",
   "metadata": {},
   "outputs": [
    {
     "data": {
      "text/plain": [
       "'store://datasets/heart-disease-classifier/churn#0@14588ba6-9b04-4d00-937b-c4b6c11077f2'"
      ]
     },
     "execution_count": 20,
     "metadata": {},
     "output_type": "execute_result"
    }
   ],
   "source": [
    "import pandas as pd\n",
    "\n",
    "dataset = project.log_dataset(key=\"churn\", df=pd.read_csv(\"data/churn_dataset_w_sentiment.csv\"))\n",
    "dataset.uri"
   ]
  },
  {
   "cell_type": "code",
   "execution_count": 38,
   "id": "f9f2eb38-9441-490c-aca4-6ed493f95cd2",
   "metadata": {},
   "outputs": [
    {
     "name": "stdout",
     "output_type": "stream",
     "text": [
      "> 2025-01-07 23:38:44,029 [info] Pipeline submitted successfully: {\"id\":\"e7ec98cb-32e5-473a-a4da-da9e2c3ffd38\",\"pipeline_name\":\"heart-disease-classifier-main 2025-01-07 23-38-43\"}\n",
      "> 2025-01-07 23:38:44,030 [info] Pipeline run id=e7ec98cb-32e5-473a-a4da-da9e2c3ffd38, check UI for progress\n"
     ]
    },
    {
     "data": {
      "text/html": [
       "Workflow started in project heart-disease-classifier id=e7ec98cb-32e5-473a-a4da-da9e2c3ffd38<div><a href=\"https://dashboard.default-tenant.app.cst-360.iguazio-cd0.com/mlprojects/heart-disease-classifier/jobs/monitor-workflows/workflow/e7ec98cb-32e5-473a-a4da-da9e2c3ffd38\" target=\"_blank\">click here to view progress</a></div>"
      ],
      "text/plain": [
       "<IPython.core.display.HTML object>"
      ]
     },
     "metadata": {},
     "output_type": "display_data"
    },
    {
     "name": "stdout",
     "output_type": "stream",
     "text": [
      "> 2025-01-07 23:38:44,088 [info] Started run workflow heart-disease-classifier-main with run id = 'e7ec98cb-32e5-473a-a4da-da9e2c3ffd38' by kfp engine\n",
      "> 2025-01-07 23:38:44,089 [info] Waiting for pipeline run completion: {\"project\":\"heart-disease-classifier\",\"run_id\":\"e7ec98cb-32e5-473a-a4da-da9e2c3ffd38\"}\n"
     ]
    },
    {
     "data": {
      "text/html": [
       "<div id=\"23657da630244e06bb0432ff33aed0bd\">Temporary Display Content</div>"
      ],
      "text/plain": [
       "<IPython.core.display.HTML object>"
      ]
     },
     "metadata": {},
     "output_type": "display_data"
    },
    {
     "data": {
      "text/html": [
       "<h2>Run Results</h2><h3>[info] Workflow e7ec98cb-32e5-473a-a4da-da9e2c3ffd38 finished, state=Succeeded</h3><br>click the hyper links below to see detailed results<br><table border=\"1\" class=\"dataframe\">\n",
       "  <thead>\n",
       "    <tr style=\"text-align: right;\">\n",
       "      <th>uid</th>\n",
       "      <th>start</th>\n",
       "      <th>state</th>\n",
       "      <th>kind</th>\n",
       "      <th>name</th>\n",
       "      <th>parameters</th>\n",
       "      <th>results</th>\n",
       "    </tr>\n",
       "  </thead>\n",
       "  <tbody>\n",
       "    <tr>\n",
       "      <td><div title=\"0db02e18aa8e42309c62326f118c0619\"><a href=\"https://dashboard.default-tenant.app.cst-360.iguazio-cd0.com/mlprojects/heart-disease-classifier/jobs/monitor/0db02e18aa8e42309c62326f118c0619/overview\" target=\"_blank\" >...118c0619</a></div></td>\n",
       "      <td>Jan 07 23:42:26</td>\n",
       "      <td>completed</td>\n",
       "      <td>run</td>\n",
       "      <td>validate-validate-model</td>\n",
       "      <td><div class=\"dictlist\">model_path=store://models/heart-disease-classifier/model#1:latest@e7ec98cb-32e5-473a-a4da-da9e2c3ffd38</div><div class=\"dictlist\">label_column=churn</div><div class=\"dictlist\">allow_validation_failure=True</div></td>\n",
       "      <td><div class=\"dictlist\">passed_suite=False</div></td>\n",
       "    </tr>\n",
       "    <tr>\n",
       "      <td><div title=\"f2571a2d8d42429eaa1bed31acf2ba31\"><a href=\"https://dashboard.default-tenant.app.cst-360.iguazio-cd0.com/mlprojects/heart-disease-classifier/jobs/monitor/f2571a2d8d42429eaa1bed31acf2ba31/overview\" target=\"_blank\" >...acf2ba31</a></div></td>\n",
       "      <td>Jan 07 23:41:06</td>\n",
       "      <td>completed</td>\n",
       "      <td>run</td>\n",
       "      <td>train</td>\n",
       "      <td><div class=\"dictlist\">label_column=churn</div><div class=\"dictlist\">model_name=model</div></td>\n",
       "      <td><div class=\"dictlist\">best_iteration=4</div><div class=\"dictlist\">accuracy=0.9583333333333334</div><div class=\"dictlist\">f1_score=0.8705882352941177</div><div class=\"dictlist\">precision_score=0.9024390243902439</div><div class=\"dictlist\">recall_score=0.8409090909090909</div><div class=\"dictlist\">model_uri=store://models/heart-disease-classifier/model#1:latest@e7ec98cb-32e5-473a-a4da-da9e2c3ffd38</div></td>\n",
       "    </tr>\n",
       "    <tr>\n",
       "      <td><div title=\"9951a9083339424582159b3a68c5dabb\"><a href=\"https://dashboard.default-tenant.app.cst-360.iguazio-cd0.com/mlprojects/heart-disease-classifier/jobs/monitor/9951a9083339424582159b3a68c5dabb/overview\" target=\"_blank\" >...68c5dabb</a></div></td>\n",
       "      <td>Jan 07 23:40:35</td>\n",
       "      <td>completed</td>\n",
       "      <td>run</td>\n",
       "      <td>validate-validate-train-test-split</td>\n",
       "      <td><div class=\"dictlist\">label_column=churn</div><div class=\"dictlist\">allow_validation_failure=True</div></td>\n",
       "      <td><div class=\"dictlist\">passed_suite=False</div></td>\n",
       "    </tr>\n",
       "    <tr>\n",
       "      <td><div title=\"72558d34d9d043d08485cb3ea951a57c\"><a href=\"https://dashboard.default-tenant.app.cst-360.iguazio-cd0.com/mlprojects/heart-disease-classifier/jobs/monitor/72558d34d9d043d08485cb3ea951a57c/overview\" target=\"_blank\" >...a951a57c</a></div></td>\n",
       "      <td>Jan 07 23:40:06</td>\n",
       "      <td>completed</td>\n",
       "      <td>run</td>\n",
       "      <td>data-process-data</td>\n",
       "      <td><div class=\"dictlist\">label_column=churn</div><div class=\"dictlist\">test_size=0.1</div><div class=\"dictlist\">ordinal_columns=['international_plan', 'voice_mail_plan']</div><div class=\"dictlist\">drop_columns=['area_code', 'chat_log', 'state']</div><div class=\"dictlist\">sentiment_column=sentiment_label</div></td>\n",
       "      <td></td>\n",
       "    </tr>\n",
       "    <tr>\n",
       "      <td><div title=\"80dc771c76ef41e0902652f8be0f2d11\"><a href=\"https://dashboard.default-tenant.app.cst-360.iguazio-cd0.com/mlprojects/heart-disease-classifier/jobs/monitor/80dc771c76ef41e0902652f8be0f2d11/overview\" target=\"_blank\" >...be0f2d11</a></div></td>\n",
       "      <td>Jan 07 23:39:16</td>\n",
       "      <td>completed</td>\n",
       "      <td>run</td>\n",
       "      <td>validate-validate-data-integrity</td>\n",
       "      <td><div class=\"dictlist\">label_column=churn</div><div class=\"dictlist\">allow_validation_failure=True</div></td>\n",
       "      <td><div class=\"dictlist\">passed_suite=False</div></td>\n",
       "    </tr>\n",
       "    <tr>\n",
       "      <td><div title=\"da11c72867ca4b43b3aa43e8d5cefca9\"><a href=\"https://dashboard.default-tenant.app.cst-360.iguazio-cd0.com/mlprojects/heart-disease-classifier/jobs/monitor/da11c72867ca4b43b3aa43e8d5cefca9/overview\" target=\"_blank\" >...d5cefca9</a></div></td>\n",
       "      <td>Jan 07 23:38:50</td>\n",
       "      <td>completed</td>\n",
       "      <td>run</td>\n",
       "      <td>data-get-data</td>\n",
       "      <td></td>\n",
       "      <td></td>\n",
       "    </tr>\n",
       "  </tbody>\n",
       "</table>"
      ],
      "text/plain": [
       "<IPython.core.display.HTML object>"
      ]
     },
     "metadata": {},
     "output_type": "display_data"
    }
   ],
   "source": [
    "train_run_id = project.run(\n",
    "    name=\"main\",\n",
    "    arguments={\n",
    "        'source_url': dataset.uri,\n",
    "        'label_column': 'churn',\n",
    "        'sentiment_column' : \"sentiment_label\",\n",
    "        'ordinal_columns' : [\"international_plan\", \"voice_mail_plan\"],\n",
    "        'drop_columns' : [\"area_code\", \"chat_log\", \"state\"],\n",
    "        'allow_validation_failure': True,\n",
    "        'model_name' : 'model'\n",
    "    },\n",
    "    dirty=True,\n",
    "    watch=True\n",
    ")"
   ]
  },
  {
   "cell_type": "code",
   "execution_count": 39,
   "id": "91321abf-6373-49e8-8603-2c9af1b27683",
   "metadata": {},
   "outputs": [],
   "source": [
    "serving_fn = project.get_function(\"serving\")"
   ]
  },
  {
   "cell_type": "code",
   "execution_count": 57,
   "id": "292500a1-7c45-45ac-ae8d-e43153ecb55d",
   "metadata": {},
   "outputs": [],
   "source": [
    "test = mlrun.get_dataitem(\"store://datasets/heart-disease-classifier/data-process-data_test#0:latest\").as_df()\n",
    "test = test.drop(\"churn\", axis=1)\n",
    "data = test.head(5).to_dict(orient=\"split\")[\"data\"]"
   ]
  },
  {
   "cell_type": "code",
   "execution_count": 61,
   "id": "bcb10cb7-bb10-4c71-8457-7bac200d7528",
   "metadata": {},
   "outputs": [
    {
     "name": "stdout",
     "output_type": "stream",
     "text": [
      "> 2025-01-08 17:07:23,574 [info] Invoking function: {\"method\":\"POST\",\"path\":\"http://nuclio-heart-disease-classifier-serving.default-tenant.svc.cluster.local:8080/v2/models/model/predict\"}\n",
      "CPU times: user 10.7 ms, sys: 0 ns, total: 10.7 ms\n",
      "Wall time: 50.8 ms\n"
     ]
    },
    {
     "data": {
      "text/plain": [
       "{'id': '4ab6364f-c221-439b-8a46-553bc15fcb42',\n",
       " 'model_name': 'model',\n",
       " 'outputs': [0, 0, 0, 0, 0],\n",
       " 'timestamp': '2025-01-08 17:07:23.584059+00:00',\n",
       " 'model_version': 'latest'}"
      ]
     },
     "execution_count": 61,
     "metadata": {},
     "output_type": "execute_result"
    }
   ],
   "source": [
    "%%time\n",
    "serving_fn.invoke(\n",
    "    \"/v2/models/model/predict\",\n",
    "    body={\n",
    "        \"inputs\": data\n",
    "    }\n",
    ")"
   ]
  }
 ],
 "metadata": {
  "kernelspec": {
   "display_name": "churn",
   "language": "python",
   "name": "conda-env-.conda-churn-py"
  },
  "language_info": {
   "codemirror_mode": {
    "name": "ipython",
    "version": 3
   },
   "file_extension": ".py",
   "mimetype": "text/x-python",
   "name": "python",
   "nbconvert_exporter": "python",
   "pygments_lexer": "ipython3",
   "version": "3.9.21"
  }
 },
 "nbformat": 4,
 "nbformat_minor": 5
}
