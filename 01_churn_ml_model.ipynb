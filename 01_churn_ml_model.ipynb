{
 "cells": [
  {
   "cell_type": "code",
   "execution_count": 1,
   "id": "77b6b4e1-185f-4220-9308-209a4eff9235",
   "metadata": {},
   "outputs": [],
   "source": [
    "import mlrun"
   ]
  },
  {
   "cell_type": "code",
   "execution_count": 2,
   "id": "63ef11b7-e480-4d86-b40d-9cf976ef5a1c",
   "metadata": {},
   "outputs": [
    {
     "name": "stdout",
     "output_type": "stream",
     "text": [
      "Project Source: v3io:///bigdata/churn.zip\n",
      "Exporting project as zip archive to v3io:///bigdata/churn.zip...\n",
      "> 2025-01-08 19:22:25,115 [info] Project loaded successfully: {\"project_name\":\"churn-agents-webinar\"}\n"
     ]
    }
   ],
   "source": [
    "project = mlrun.get_or_create_project(\n",
    "    \"churn-agents-webinar\",\n",
    "    parameters={\n",
    "        \"base_image\" : \"mlrun/mlrun\",\n",
    "        \"requirements_file\" : \"requirements.txt\",\n",
    "        \"force_build\" : False,\n",
    "        \"source\" : \"v3io:///bigdata/churn.zip\"\n",
    "    }\n",
    ")"
   ]
  },
  {
   "cell_type": "code",
   "execution_count": 3,
   "id": "50a789b4-02ae-41ba-bef6-fdf4a4e41c18",
   "metadata": {},
   "outputs": [
    {
     "data": {
      "text/plain": [
       "'store://datasets/churn-agents-webinar/churn#0@4425379f297fd93ce57c7acbca6193999c550c78'"
      ]
     },
     "execution_count": 3,
     "metadata": {},
     "output_type": "execute_result"
    }
   ],
   "source": [
    "import pandas as pd\n",
    "\n",
    "dataset = project.log_dataset(key=\"churn\", df=pd.read_csv(\"data/churn_dataset_w_sentiment.csv\"))\n",
    "dataset.uri"
   ]
  },
  {
   "cell_type": "code",
   "execution_count": 4,
   "id": "f9f2eb38-9441-490c-aca4-6ed493f95cd2",
   "metadata": {},
   "outputs": [
    {
     "name": "stdout",
     "output_type": "stream",
     "text": [
      "> 2025-01-08 19:22:27,637 [warning] WARNING!, You seem to have uncommitted git changes, use .push()\n",
      "> 2025-01-08 19:22:29,068 [info] Pipeline submitted successfully: {\"id\":\"62299e03-0e80-4421-8651-7bdcc3b51e01\",\"pipeline_name\":\"churn-agents-webinar-main 2025-01-08 19-22-28\"}\n",
      "> 2025-01-08 19:22:29,069 [info] Pipeline run id=62299e03-0e80-4421-8651-7bdcc3b51e01, check UI for progress\n"
     ]
    },
    {
     "data": {
      "text/html": [
       "Workflow started in project churn-agents-webinar id=62299e03-0e80-4421-8651-7bdcc3b51e01<div><a href=\"https://dashboard.default-tenant.app.cst-360.iguazio-cd0.com/mlprojects/churn-agents-webinar/jobs/monitor-workflows/workflow/62299e03-0e80-4421-8651-7bdcc3b51e01\" target=\"_blank\">click here to view progress</a></div>"
      ],
      "text/plain": [
       "<IPython.core.display.HTML object>"
      ]
     },
     "metadata": {},
     "output_type": "display_data"
    },
    {
     "name": "stdout",
     "output_type": "stream",
     "text": [
      "> 2025-01-08 19:22:29,123 [info] Started run workflow churn-agents-webinar-main with run id = '62299e03-0e80-4421-8651-7bdcc3b51e01' by kfp engine\n",
      "> 2025-01-08 19:22:29,124 [info] Waiting for pipeline run completion: {\"project\":\"churn-agents-webinar\",\"run_id\":\"62299e03-0e80-4421-8651-7bdcc3b51e01\"}\n"
     ]
    },
    {
     "data": {
      "text/html": [
       "<div id=\"18bbadfac7dc40aea0c30eb13579fd18\">Temporary Display Content</div>"
      ],
      "text/plain": [
       "<IPython.core.display.HTML object>"
      ]
     },
     "metadata": {},
     "output_type": "display_data"
    },
    {
     "data": {
      "text/html": [
       "<h2>Run Results</h2><h3>[info] Workflow 62299e03-0e80-4421-8651-7bdcc3b51e01 finished, state=Succeeded</h3><br>click the hyper links below to see detailed results<br><table border=\"1\" class=\"dataframe\">\n",
       "  <thead>\n",
       "    <tr style=\"text-align: right;\">\n",
       "      <th>uid</th>\n",
       "      <th>start</th>\n",
       "      <th>state</th>\n",
       "      <th>kind</th>\n",
       "      <th>name</th>\n",
       "      <th>parameters</th>\n",
       "      <th>results</th>\n",
       "    </tr>\n",
       "  </thead>\n",
       "  <tbody>\n",
       "    <tr>\n",
       "      <td><div title=\"113f25c4f2b3481c896ab2f8149563cf\"><a href=\"https://dashboard.default-tenant.app.cst-360.iguazio-cd0.com/mlprojects/churn-agents-webinar/jobs/monitor/113f25c4f2b3481c896ab2f8149563cf/overview\" target=\"_blank\" >...149563cf</a></div></td>\n",
       "      <td>Jan 08 19:26:10</td>\n",
       "      <td>completed</td>\n",
       "      <td>run</td>\n",
       "      <td>validate-validate-model</td>\n",
       "      <td><div class=\"dictlist\">model_path=store://models/churn-agents-webinar/churn_model#1:latest@62299e03-0e80-4421-8651-7bdcc3b51e01</div><div class=\"dictlist\">label_column=churn</div><div class=\"dictlist\">allow_validation_failure=True</div></td>\n",
       "      <td><div class=\"dictlist\">passed_suite=False</div></td>\n",
       "    </tr>\n",
       "    <tr>\n",
       "      <td><div title=\"99604aa45cef4c3cbc10d8ad8b9a7f2f\"><a href=\"https://dashboard.default-tenant.app.cst-360.iguazio-cd0.com/mlprojects/churn-agents-webinar/jobs/monitor/99604aa45cef4c3cbc10d8ad8b9a7f2f/overview\" target=\"_blank\" >...8b9a7f2f</a></div></td>\n",
       "      <td>Jan 08 19:24:50</td>\n",
       "      <td>completed</td>\n",
       "      <td>run</td>\n",
       "      <td>train</td>\n",
       "      <td><div class=\"dictlist\">label_column=churn</div><div class=\"dictlist\">model_name=churn_model</div></td>\n",
       "      <td><div class=\"dictlist\">best_iteration=2</div><div class=\"dictlist\">accuracy=0.9545454545454546</div><div class=\"dictlist\">f1_score=0.8604651162790697</div><div class=\"dictlist\">precision_score=0.8809523809523809</div><div class=\"dictlist\">recall_score=0.8409090909090909</div><div class=\"dictlist\">model_uri=store://models/churn-agents-webinar/churn_model#1:latest@62299e03-0e80-4421-8651-7bdcc3b51e01</div></td>\n",
       "    </tr>\n",
       "    <tr>\n",
       "      <td><div title=\"958605abb6d74d498b2fda2237c55d1e\"><a href=\"https://dashboard.default-tenant.app.cst-360.iguazio-cd0.com/mlprojects/churn-agents-webinar/jobs/monitor/958605abb6d74d498b2fda2237c55d1e/overview\" target=\"_blank\" >...37c55d1e</a></div></td>\n",
       "      <td>Jan 08 19:24:18</td>\n",
       "      <td>completed</td>\n",
       "      <td>run</td>\n",
       "      <td>validate-validate-train-test-split</td>\n",
       "      <td><div class=\"dictlist\">label_column=churn</div><div class=\"dictlist\">allow_validation_failure=True</div></td>\n",
       "      <td><div class=\"dictlist\">passed_suite=False</div></td>\n",
       "    </tr>\n",
       "    <tr>\n",
       "      <td><div title=\"f76e94373b28438ab56407dcc1a0a174\"><a href=\"https://dashboard.default-tenant.app.cst-360.iguazio-cd0.com/mlprojects/churn-agents-webinar/jobs/monitor/f76e94373b28438ab56407dcc1a0a174/overview\" target=\"_blank\" >...c1a0a174</a></div></td>\n",
       "      <td>Jan 08 19:23:50</td>\n",
       "      <td>completed</td>\n",
       "      <td>run</td>\n",
       "      <td>data-process-data</td>\n",
       "      <td><div class=\"dictlist\">label_column=churn</div><div class=\"dictlist\">test_size=0.1</div><div class=\"dictlist\">ordinal_columns=['international_plan', 'voice_mail_plan']</div><div class=\"dictlist\">drop_columns=['area_code', 'chat_log', 'state']</div><div class=\"dictlist\">sentiment_column=sentiment_label</div></td>\n",
       "      <td></td>\n",
       "    </tr>\n",
       "    <tr>\n",
       "      <td><div title=\"64225dba48a04d639d257ece03380ce7\"><a href=\"https://dashboard.default-tenant.app.cst-360.iguazio-cd0.com/mlprojects/churn-agents-webinar/jobs/monitor/64225dba48a04d639d257ece03380ce7/overview\" target=\"_blank\" >...03380ce7</a></div></td>\n",
       "      <td>Jan 08 19:23:01</td>\n",
       "      <td>completed</td>\n",
       "      <td>run</td>\n",
       "      <td>validate-validate-data-integrity</td>\n",
       "      <td><div class=\"dictlist\">label_column=churn</div><div class=\"dictlist\">allow_validation_failure=True</div></td>\n",
       "      <td><div class=\"dictlist\">passed_suite=False</div></td>\n",
       "    </tr>\n",
       "    <tr>\n",
       "      <td><div title=\"94afb27353714a1cbbbac9105db0385e\"><a href=\"https://dashboard.default-tenant.app.cst-360.iguazio-cd0.com/mlprojects/churn-agents-webinar/jobs/monitor/94afb27353714a1cbbbac9105db0385e/overview\" target=\"_blank\" >...5db0385e</a></div></td>\n",
       "      <td>Jan 08 19:22:36</td>\n",
       "      <td>completed</td>\n",
       "      <td>run</td>\n",
       "      <td>data-get-data</td>\n",
       "      <td></td>\n",
       "      <td></td>\n",
       "    </tr>\n",
       "  </tbody>\n",
       "</table>"
      ],
      "text/plain": [
       "<IPython.core.display.HTML object>"
      ]
     },
     "metadata": {},
     "output_type": "display_data"
    }
   ],
   "source": [
    "train_run_id = project.run(\n",
    "    name=\"main\",\n",
    "    arguments={\n",
    "        'source_url': dataset.uri,\n",
    "        'label_column': 'churn',\n",
    "        'sentiment_column' : \"sentiment_label\",\n",
    "        'ordinal_columns' : [\"international_plan\", \"voice_mail_plan\"],\n",
    "        'drop_columns' : [\"area_code\", \"chat_log\", \"state\"],\n",
    "        'allow_validation_failure': True,\n",
    "        'model_name' : 'churn_model'\n",
    "    },\n",
    "    dirty=True,\n",
    "    watch=True\n",
    ")"
   ]
  },
  {
   "cell_type": "code",
   "execution_count": 5,
   "id": "91321abf-6373-49e8-8603-2c9af1b27683",
   "metadata": {},
   "outputs": [],
   "source": [
    "serving_fn = project.get_function(\"serving\")"
   ]
  },
  {
   "cell_type": "code",
   "execution_count": 6,
   "id": "292500a1-7c45-45ac-ae8d-e43153ecb55d",
   "metadata": {},
   "outputs": [],
   "source": [
    "test = mlrun.get_dataitem(\"store://datasets/churn-agents-webinar/data-process-data_test#0:latest\").as_df()\n",
    "test = test.drop(\"churn\", axis=1)\n",
    "data = test.head(5).to_dict(orient=\"split\")[\"data\"]"
   ]
  },
  {
   "cell_type": "code",
   "execution_count": 7,
   "id": "bcb10cb7-bb10-4c71-8457-7bac200d7528",
   "metadata": {},
   "outputs": [
    {
     "name": "stdout",
     "output_type": "stream",
     "text": [
      "> 2025-01-08 19:28:45,606 [info] Invoking function: {\"method\":\"POST\",\"path\":\"http://nuclio-churn-agents-webinar-serving.default-tenant.svc.cluster.local:8080/v2/models/churn_model/predict\"}\n",
      "CPU times: user 12.3 ms, sys: 0 ns, total: 12.3 ms\n",
      "Wall time: 70.6 ms\n"
     ]
    },
    {
     "data": {
      "text/plain": [
       "{'id': 'ccdab364-e589-4013-b027-76bb64b995ad',\n",
       " 'model_name': 'churn_model',\n",
       " 'outputs': [0.010083646332612918,\n",
       "  0.008936944991110527,\n",
       "  0.004941389207162068,\n",
       "  0.01702900397600304,\n",
       "  0.014068581639357439],\n",
       " 'timestamp': '2025-01-08 19:28:45.619154+00:00',\n",
       " 'model_version': 'latest'}"
      ]
     },
     "execution_count": 7,
     "metadata": {},
     "output_type": "execute_result"
    }
   ],
   "source": [
    "%%time\n",
    "serving_fn.invoke(\n",
    "    \"/v2/models/churn_model/predict\",\n",
    "    body={\n",
    "        \"inputs\": data\n",
    "    }\n",
    ")"
   ]
  },
  {
   "cell_type": "code",
   "execution_count": null,
   "id": "c884814d-9483-4dfb-bdb8-be33aaa69c43",
   "metadata": {},
   "outputs": [],
   "source": []
  }
 ],
 "metadata": {
  "kernelspec": {
   "display_name": "churn",
   "language": "python",
   "name": "conda-env-.conda-churn-py"
  },
  "language_info": {
   "codemirror_mode": {
    "name": "ipython",
    "version": 3
   },
   "file_extension": ".py",
   "mimetype": "text/x-python",
   "name": "python",
   "nbconvert_exporter": "python",
   "pygments_lexer": "ipython3",
   "version": "3.9.21"
  }
 },
 "nbformat": 4,
 "nbformat_minor": 5
}
