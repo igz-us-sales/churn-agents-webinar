{
 "cells": [
  {
   "cell_type": "markdown",
   "id": "326b3005-9a8e-4b07-9d4c-bb2e2ae5ffd9",
   "metadata": {},
   "source": [
    "# Churn Model Training + Deployment Pipeline"
   ]
  },
  {
   "cell_type": "code",
   "execution_count": 1,
   "id": "77b6b4e1-185f-4220-9308-209a4eff9235",
   "metadata": {},
   "outputs": [],
   "source": [
    "import mlrun\n",
    "import pandas as pd"
   ]
  },
  {
   "cell_type": "markdown",
   "id": "3a1ca344-b7fd-47a7-86b7-575d352851a4",
   "metadata": {},
   "source": [
    "### Setup Project"
   ]
  },
  {
   "cell_type": "code",
   "execution_count": 2,
   "id": "63ef11b7-e480-4d86-b40d-9cf976ef5a1c",
   "metadata": {},
   "outputs": [
    {
     "name": "stdout",
     "output_type": "stream",
     "text": [
      "Project Source: v3io:///bigdata/churn.zip\n",
      "Exporting project as zip archive to v3io:///bigdata/churn.zip...\n",
      "> 2025-01-22 17:13:06,425 [info] Project loaded successfully: {\"project_name\":\"churn-agents-webinar\"}\n"
     ]
    }
   ],
   "source": [
    "project = mlrun.get_or_create_project(\n",
    "    \"churn-agents-webinar\",\n",
    "    parameters={\n",
    "        \"base_image\" : \"mlrun/mlrun:1.7.2\",\n",
    "        \"requirements_file\" : \"requirements-churn-pipeline.txt\",\n",
    "        \"force_build\" : False,\n",
    "        \"source\" : \"v3io:///bigdata/churn.zip\", # enterprise\n",
    "        # \"source\" : \"s3://mlrun/churn.zip\" # open source\n",
    "    }\n",
    ")"
   ]
  },
  {
   "cell_type": "markdown",
   "id": "7e50bd0d-096f-4322-b509-31b3ac358782",
   "metadata": {},
   "source": [
    "### Log Dataset"
   ]
  },
  {
   "cell_type": "code",
   "execution_count": 45,
   "id": "50a789b4-02ae-41ba-bef6-fdf4a4e41c18",
   "metadata": {},
   "outputs": [
    {
     "data": {
      "text/plain": [
       "'store://datasets/churn-agents-webinar/churn#0@a14f19aadf033e34631adad4a8488b912d14e98d'"
      ]
     },
     "execution_count": 45,
     "metadata": {},
     "output_type": "execute_result"
    }
   ],
   "source": [
    "import pandas as pd\n",
    "\n",
    "dataset = project.log_dataset(key=\"churn\", df=pd.read_csv(\"data/churn_dataset.csv\"))\n",
    "dataset.uri"
   ]
  },
  {
   "cell_type": "markdown",
   "id": "a813c814-e7e1-45b8-b991-72579efe8eda",
   "metadata": {},
   "source": [
    "### Run Pipeline"
   ]
  },
  {
   "cell_type": "code",
   "execution_count": 46,
   "id": "3ff4f142-5efd-4913-95c1-11e18b501e91",
   "metadata": {},
   "outputs": [],
   "source": [
    "from config import MainConfig"
   ]
  },
  {
   "cell_type": "code",
   "execution_count": 47,
   "id": "de252aef-872f-47ca-b039-d2f8e49a9927",
   "metadata": {},
   "outputs": [
    {
     "data": {
      "text/plain": [
       "{'source_url': 'store://datasets/churn-agents-webinar/churn#0@a14f19aadf033e34631adad4a8488b912d14e98d',\n",
       " 'label_column': 'churn',\n",
       " 'allow_validation_failure': True,\n",
       " 'test_size': 0.2,\n",
       " 'model_name': 'churn_model',\n",
       " 'sentiment_model': 'cardiffnlp/twitter-roberta-base-sentiment-latest',\n",
       " 'text_column': 'chat_log',\n",
       " 'sentiment_column': 'sentiment_label',\n",
       " 'ordinal_columns': ['international_plan', 'voice_mail_plan'],\n",
       " 'drop_columns': ['area_code', 'chat_log', 'state']}"
      ]
     },
     "execution_count": 47,
     "metadata": {},
     "output_type": "execute_result"
    }
   ],
   "source": [
    "arguments = MainConfig(source_url = dataset.uri).dict()\n",
    "arguments"
   ]
  },
  {
   "cell_type": "code",
   "execution_count": 48,
   "id": "f9f2eb38-9441-490c-aca4-6ed493f95cd2",
   "metadata": {},
   "outputs": [
    {
     "name": "stdout",
     "output_type": "stream",
     "text": [
      "> 2025-01-21 19:45:39,139 [warning] WARNING!, You seem to have uncommitted git changes, use .push()\n",
      "> 2025-01-21 19:45:40,980 [info] Pipeline submitted successfully: {\"id\":\"1f9e7a2e-4fdc-4250-92c5-9f7721844462\",\"pipeline_name\":\"churn-agents-webinar-main 2025-01-21 19-45-40\"}\n",
      "> 2025-01-21 19:45:40,981 [info] Pipeline run id=1f9e7a2e-4fdc-4250-92c5-9f7721844462, check UI for progress\n"
     ]
    },
    {
     "data": {
      "text/html": [
       "Workflow started in project churn-agents-webinar id=1f9e7a2e-4fdc-4250-92c5-9f7721844462<div><a href=\"https://dashboard.default-tenant.app.cst-360.iguazio-cd0.com/mlprojects/churn-agents-webinar/jobs/monitor-workflows/workflow/1f9e7a2e-4fdc-4250-92c5-9f7721844462\" target=\"_blank\">click here to view progress</a></div>"
      ],
      "text/plain": [
       "<IPython.core.display.HTML object>"
      ]
     },
     "metadata": {},
     "output_type": "display_data"
    },
    {
     "name": "stdout",
     "output_type": "stream",
     "text": [
      "> 2025-01-21 19:45:41,050 [info] Started run workflow churn-agents-webinar-main with run id = '1f9e7a2e-4fdc-4250-92c5-9f7721844462' by kfp engine\n",
      "> 2025-01-21 19:45:41,051 [info] Waiting for pipeline run completion: {\"project\":\"churn-agents-webinar\",\"run_id\":\"1f9e7a2e-4fdc-4250-92c5-9f7721844462\"}\n"
     ]
    },
    {
     "data": {
      "text/html": [
       "<div id=\"aae4de79557a463e9b6bb7cdb950fdba\">Temporary Display Content</div>"
      ],
      "text/plain": [
       "<IPython.core.display.HTML object>"
      ]
     },
     "metadata": {},
     "output_type": "display_data"
    },
    {
     "data": {
      "text/html": [
       "<h2>Run Results</h2><h3>[info] Workflow 1f9e7a2e-4fdc-4250-92c5-9f7721844462 finished, state=Succeeded</h3><br>click the hyper links below to see detailed results<br><table border=\"1\" class=\"dataframe\">\n",
       "  <thead>\n",
       "    <tr style=\"text-align: right;\">\n",
       "      <th>uid</th>\n",
       "      <th>start</th>\n",
       "      <th>state</th>\n",
       "      <th>kind</th>\n",
       "      <th>name</th>\n",
       "      <th>parameters</th>\n",
       "      <th>results</th>\n",
       "    </tr>\n",
       "  </thead>\n",
       "  <tbody>\n",
       "    <tr>\n",
       "      <td><div title=\"4bb41e03f89f475e815ae1b6845c07be\"><a href=\"https://dashboard.default-tenant.app.cst-360.iguazio-cd0.com/mlprojects/churn-agents-webinar/jobs/monitor/4bb41e03f89f475e815ae1b6845c07be/overview\" target=\"_blank\" >...845c07be</a></div></td>\n",
       "      <td>Jan 21 19:54:13</td>\n",
       "      <td>completed</td>\n",
       "      <td>run</td>\n",
       "      <td>validate-validate-model</td>\n",
       "      <td><div class=\"dictlist\">model_path=store://models/churn-agents-webinar/churn_model#1:latest@1f9e7a2e-4fdc-4250-92c5-9f7721844462</div><div class=\"dictlist\">label_column=churn</div><div class=\"dictlist\">allow_validation_failure=True</div></td>\n",
       "      <td><div class=\"dictlist\">passed_suite=False</div></td>\n",
       "    </tr>\n",
       "    <tr>\n",
       "      <td><div title=\"bc7a29af56a8428b8e0c297df4cd991b\"><a href=\"https://dashboard.default-tenant.app.cst-360.iguazio-cd0.com/mlprojects/churn-agents-webinar/jobs/monitor/bc7a29af56a8428b8e0c297df4cd991b/overview\" target=\"_blank\" >...f4cd991b</a></div></td>\n",
       "      <td>Jan 21 19:53:00</td>\n",
       "      <td>completed</td>\n",
       "      <td>run</td>\n",
       "      <td>train</td>\n",
       "      <td><div class=\"dictlist\">label_column=churn</div><div class=\"dictlist\">model_name=churn_model</div></td>\n",
       "      <td><div class=\"dictlist\">best_iteration=4</div><div class=\"dictlist\">accuracy=0.9583333333333334</div><div class=\"dictlist\">f1_score=0.8571428571428571</div><div class=\"dictlist\">precision_score=0.868421052631579</div><div class=\"dictlist\">recall_score=0.8461538461538461</div><div class=\"dictlist\">model_uri=store://models/churn-agents-webinar/churn_model#1:latest@1f9e7a2e-4fdc-4250-92c5-9f7721844462</div></td>\n",
       "    </tr>\n",
       "    <tr>\n",
       "      <td><div title=\"06638e3ec0f84d7396979bc0e31a4689\"><a href=\"https://dashboard.default-tenant.app.cst-360.iguazio-cd0.com/mlprojects/churn-agents-webinar/jobs/monitor/06638e3ec0f84d7396979bc0e31a4689/overview\" target=\"_blank\" >...e31a4689</a></div></td>\n",
       "      <td>Jan 21 19:52:28</td>\n",
       "      <td>completed</td>\n",
       "      <td>run</td>\n",
       "      <td>validate-validate-train-test-split</td>\n",
       "      <td><div class=\"dictlist\">label_column=churn</div><div class=\"dictlist\">allow_validation_failure=True</div></td>\n",
       "      <td><div class=\"dictlist\">passed_suite=True</div></td>\n",
       "    </tr>\n",
       "    <tr>\n",
       "      <td><div title=\"3686f4d50a894332b9eeeec6e3092664\"><a href=\"https://dashboard.default-tenant.app.cst-360.iguazio-cd0.com/mlprojects/churn-agents-webinar/jobs/monitor/3686f4d50a894332b9eeeec6e3092664/overview\" target=\"_blank\" >...e3092664</a></div></td>\n",
       "      <td>Jan 21 19:52:02</td>\n",
       "      <td>completed</td>\n",
       "      <td>run</td>\n",
       "      <td>data-process-data</td>\n",
       "      <td><div class=\"dictlist\">label_column=churn</div><div class=\"dictlist\">test_size=0.2</div><div class=\"dictlist\">ordinal_columns=['international_plan', 'voice_mail_plan']</div><div class=\"dictlist\">drop_columns=['area_code', 'chat_log', 'state']</div><div class=\"dictlist\">sentiment_column=sentiment_label</div></td>\n",
       "      <td></td>\n",
       "    </tr>\n",
       "    <tr>\n",
       "      <td><div title=\"13ea54b6bfba410db26e7c4eb931b394\"><a href=\"https://dashboard.default-tenant.app.cst-360.iguazio-cd0.com/mlprojects/churn-agents-webinar/jobs/monitor/13ea54b6bfba410db26e7c4eb931b394/overview\" target=\"_blank\" >...b931b394</a></div></td>\n",
       "      <td>Jan 21 19:51:05</td>\n",
       "      <td>completed</td>\n",
       "      <td>run</td>\n",
       "      <td>validate-validate-data-integrity</td>\n",
       "      <td><div class=\"dictlist\">label_column=churn</div><div class=\"dictlist\">allow_validation_failure=True</div></td>\n",
       "      <td><div class=\"dictlist\">passed_suite=False</div></td>\n",
       "    </tr>\n",
       "    <tr>\n",
       "      <td><div title=\"9a37654bf2b94a16ba41270e20c5a20b\"><a href=\"https://dashboard.default-tenant.app.cst-360.iguazio-cd0.com/mlprojects/churn-agents-webinar/jobs/monitor/9a37654bf2b94a16ba41270e20c5a20b/overview\" target=\"_blank\" >...20c5a20b</a></div></td>\n",
       "      <td>Jan 21 19:46:15</td>\n",
       "      <td>completed</td>\n",
       "      <td>run</td>\n",
       "      <td>data-sentiment-analysis</td>\n",
       "      <td><div class=\"dictlist\">sentiment_model=cardiffnlp/twitter-roberta-base-sentiment-latest</div><div class=\"dictlist\">text_column=chat_log</div></td>\n",
       "      <td></td>\n",
       "    </tr>\n",
       "    <tr>\n",
       "      <td><div title=\"52b5807a5ff74cb5a0450906894378d5\"><a href=\"https://dashboard.default-tenant.app.cst-360.iguazio-cd0.com/mlprojects/churn-agents-webinar/jobs/monitor/52b5807a5ff74cb5a0450906894378d5/overview\" target=\"_blank\" >...894378d5</a></div></td>\n",
       "      <td>Jan 21 19:45:48</td>\n",
       "      <td>completed</td>\n",
       "      <td>run</td>\n",
       "      <td>data-get-data</td>\n",
       "      <td></td>\n",
       "      <td></td>\n",
       "    </tr>\n",
       "  </tbody>\n",
       "</table>"
      ],
      "text/plain": [
       "<IPython.core.display.HTML object>"
      ]
     },
     "metadata": {},
     "output_type": "display_data"
    }
   ],
   "source": [
    "train_run_id = project.run(\n",
    "    name=\"main\",\n",
    "    arguments=arguments,\n",
    "    dirty=True,\n",
    "    watch=True\n",
    ")"
   ]
  },
  {
   "cell_type": "markdown",
   "id": "0dfeee46-4f82-4277-aad1-3cc5583ca8f3",
   "metadata": {},
   "source": [
    "### Test Model Endpoint"
   ]
  },
  {
   "cell_type": "code",
   "execution_count": 18,
   "id": "91321abf-6373-49e8-8603-2c9af1b27683",
   "metadata": {},
   "outputs": [],
   "source": [
    "serving_fn = project.get_function(\"serving\")"
   ]
  },
  {
   "cell_type": "code",
   "execution_count": 19,
   "id": "292500a1-7c45-45ac-ae8d-e43153ecb55d",
   "metadata": {},
   "outputs": [],
   "source": [
    "test = mlrun.get_dataitem(\"store://datasets/churn-agents-webinar/data-process-data_test#0:latest\").as_df()\n",
    "test = test.drop(\"churn\", axis=1)\n",
    "data = test.head(5).to_dict(orient=\"split\")[\"data\"]"
   ]
  },
  {
   "cell_type": "code",
   "execution_count": 22,
   "id": "bcb10cb7-bb10-4c71-8457-7bac200d7528",
   "metadata": {},
   "outputs": [
    {
     "name": "stdout",
     "output_type": "stream",
     "text": [
      "> 2025-01-23 17:44:31,325 [info] Invoking function: {\"method\":\"POST\",\"path\":\"http://nuclio-churn-agents-webinar-serving.default-tenant.svc.cluster.local:8080/v2/models/churn_model/predict\"}\n",
      "CPU times: user 10.2 ms, sys: 0 ns, total: 10.2 ms\n",
      "Wall time: 38 ms\n"
     ]
    },
    {
     "data": {
      "text/plain": [
       "{'id': '62d07bd5-6a18-444a-a5a6-bb9063a67045',\n",
       " 'model_name': 'churn_model',\n",
       " 'outputs': [0.007601190476190476,\n",
       "  0.0029821428571428573,\n",
       "  0.005812500000000001,\n",
       "  0.009351190476190476,\n",
       "  0.004410714285714285],\n",
       " 'timestamp': '2025-01-23 17:44:31.334132+00:00',\n",
       " 'model_version': 'latest'}"
      ]
     },
     "execution_count": 22,
     "metadata": {},
     "output_type": "execute_result"
    }
   ],
   "source": [
    "%%time\n",
    "serving_fn.invoke(\n",
    "    \"/v2/models/churn_model/predict\",\n",
    "    body={\n",
    "        \"inputs\": data\n",
    "    }\n",
    ")"
   ]
  },
  {
   "cell_type": "code",
   "execution_count": null,
   "id": "c884814d-9483-4dfb-bdb8-be33aaa69c43",
   "metadata": {},
   "outputs": [],
   "source": []
  }
 ],
 "metadata": {
  "kernelspec": {
   "display_name": "churn-v2",
   "language": "python",
   "name": "conda-env-.conda-churn-v2-py"
  },
  "language_info": {
   "codemirror_mode": {
    "name": "ipython",
    "version": 3
   },
   "file_extension": ".py",
   "mimetype": "text/x-python",
   "name": "python",
   "nbconvert_exporter": "python",
   "pygments_lexer": "ipython3",
   "version": "3.9.21"
  }
 },
 "nbformat": 4,
 "nbformat_minor": 5
}
