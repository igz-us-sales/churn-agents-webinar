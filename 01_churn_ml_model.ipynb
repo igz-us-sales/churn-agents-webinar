{
 "cells": [
  {
   "cell_type": "markdown",
   "id": "326b3005-9a8e-4b07-9d4c-bb2e2ae5ffd9",
   "metadata": {},
   "source": [
    "# Churn Model Training + Deployment Pipeline"
   ]
  },
  {
   "cell_type": "code",
   "execution_count": 1,
   "id": "77b6b4e1-185f-4220-9308-209a4eff9235",
   "metadata": {},
   "outputs": [],
   "source": [
    "import mlrun\n",
    "import pandas as pd"
   ]
  },
  {
   "cell_type": "markdown",
   "id": "3a1ca344-b7fd-47a7-86b7-575d352851a4",
   "metadata": {},
   "source": [
    "### Setup Project"
   ]
  },
  {
   "cell_type": "code",
   "execution_count": 4,
   "id": "63ef11b7-e480-4d86-b40d-9cf976ef5a1c",
   "metadata": {},
   "outputs": [
    {
     "name": "stdout",
     "output_type": "stream",
     "text": [
      "Project Source: v3io:///bigdata/churn.zip\n",
      "Exporting project as zip archive to v3io:///bigdata/churn.zip...\n",
      "> 2025-01-27 22:49:52,160 [info] Project loaded successfully: {\"project_name\":\"churn-agents-webinar\"}\n"
     ]
    }
   ],
   "source": [
    "project = mlrun.get_or_create_project(\n",
    "    \"churn-agents-webinar\",\n",
    "    parameters={\n",
    "        \"base_image\" : \"mlrun/mlrun:1.7.2\",\n",
    "        \"requirements_file\" : \"requirements-churn-pipeline.txt\",\n",
    "        \"force_build\" : True, # Disable after running once\n",
    "        # \"source\" : \"v3io:///bigdata/churn.zip\", # enterprise\n",
    "        \"source\" : \"s3://mlrun/churn.zip\" # open source\n",
    "    }\n",
    ")"
   ]
  },
  {
   "cell_type": "markdown",
   "id": "7e50bd0d-096f-4322-b509-31b3ac358782",
   "metadata": {},
   "source": [
    "### Log Dataset"
   ]
  },
  {
   "cell_type": "code",
   "execution_count": 5,
   "id": "50a789b4-02ae-41ba-bef6-fdf4a4e41c18",
   "metadata": {},
   "outputs": [
    {
     "data": {
      "text/plain": [
       "'store://datasets/churn-agents-webinar/churn#0@2bba33408a9119f457c80530e2870e06651a5708'"
      ]
     },
     "execution_count": 5,
     "metadata": {},
     "output_type": "execute_result"
    }
   ],
   "source": [
    "import pandas as pd\n",
    "\n",
    "dataset = project.log_dataset(key=\"churn\", df=pd.read_csv(\"data/churn_dataset.csv\"))\n",
    "dataset.uri"
   ]
  },
  {
   "cell_type": "markdown",
   "id": "a813c814-e7e1-45b8-b991-72579efe8eda",
   "metadata": {},
   "source": [
    "### Run Pipeline"
   ]
  },
  {
   "cell_type": "code",
   "execution_count": 6,
   "id": "3ff4f142-5efd-4913-95c1-11e18b501e91",
   "metadata": {},
   "outputs": [],
   "source": [
    "from config import MainConfig"
   ]
  },
  {
   "cell_type": "code",
   "execution_count": 7,
   "id": "de252aef-872f-47ca-b039-d2f8e49a9927",
   "metadata": {},
   "outputs": [
    {
     "data": {
      "text/plain": [
       "{'source_url': 'store://datasets/churn-agents-webinar/churn#0@2bba33408a9119f457c80530e2870e06651a5708',\n",
       " 'label_column': 'churn',\n",
       " 'allow_validation_failure': True,\n",
       " 'test_size': 0.2,\n",
       " 'model_name': 'churn_model',\n",
       " 'sentiment_model': 'cardiffnlp/twitter-roberta-base-sentiment-latest',\n",
       " 'text_column': 'chat_log',\n",
       " 'sentiment_column': 'sentiment_label',\n",
       " 'ordinal_columns': ['international_plan', 'voice_mail_plan'],\n",
       " 'drop_columns': ['area_code', 'chat_log', 'state']}"
      ]
     },
     "execution_count": 7,
     "metadata": {},
     "output_type": "execute_result"
    }
   ],
   "source": [
    "arguments = MainConfig(source_url = dataset.uri).dict()\n",
    "arguments"
   ]
  },
  {
   "cell_type": "code",
   "execution_count": 8,
   "id": "f9f2eb38-9441-490c-aca4-6ed493f95cd2",
   "metadata": {},
   "outputs": [
    {
     "name": "stdout",
     "output_type": "stream",
     "text": [
      "> 2025-01-27 22:49:56,063 [warning] WARNING!, You seem to have uncommitted git changes, use .push()\n",
      "> 2025-01-27 22:49:57,822 [info] Pipeline submitted successfully: {\"id\":\"210aba32-f83a-4c16-8c4a-b1545ff14165\",\"pipeline_name\":\"churn-agents-webinar-main 2025-01-27 22-49-57\"}\n",
      "> 2025-01-27 22:49:57,823 [info] Pipeline run id=210aba32-f83a-4c16-8c4a-b1545ff14165, check UI for progress\n"
     ]
    },
    {
     "data": {
      "text/html": [
       "Workflow started in project churn-agents-webinar id=210aba32-f83a-4c16-8c4a-b1545ff14165<div><a href=\"https://dashboard.default-tenant.app.cst-360.iguazio-cd0.com/mlprojects/churn-agents-webinar/jobs/monitor-workflows/workflow/210aba32-f83a-4c16-8c4a-b1545ff14165\" target=\"_blank\">click here to view progress</a></div>"
      ],
      "text/plain": [
       "<IPython.core.display.HTML object>"
      ]
     },
     "metadata": {},
     "output_type": "display_data"
    },
    {
     "name": "stdout",
     "output_type": "stream",
     "text": [
      "> 2025-01-27 22:49:57,872 [info] Started run workflow churn-agents-webinar-main with run id = '210aba32-f83a-4c16-8c4a-b1545ff14165' by kfp engine\n",
      "> 2025-01-27 22:49:57,873 [info] Waiting for pipeline run completion: {\"project\":\"churn-agents-webinar\",\"run_id\":\"210aba32-f83a-4c16-8c4a-b1545ff14165\"}\n"
     ]
    },
    {
     "data": {
      "text/html": [
       "<div id=\"036b7eabbf494e669e260dec3f2f081a\">Temporary Display Content</div>"
      ],
      "text/plain": [
       "<IPython.core.display.HTML object>"
      ]
     },
     "metadata": {},
     "output_type": "display_data"
    },
    {
     "data": {
      "text/html": [
       "<h2>Run Results</h2><h3>[info] Workflow 210aba32-f83a-4c16-8c4a-b1545ff14165 finished, state=Succeeded</h3><br>click the hyper links below to see detailed results<br><table border=\"1\" class=\"dataframe\">\n",
       "  <thead>\n",
       "    <tr style=\"text-align: right;\">\n",
       "      <th>uid</th>\n",
       "      <th>start</th>\n",
       "      <th>state</th>\n",
       "      <th>kind</th>\n",
       "      <th>name</th>\n",
       "      <th>parameters</th>\n",
       "      <th>results</th>\n",
       "    </tr>\n",
       "  </thead>\n",
       "  <tbody>\n",
       "    <tr>\n",
       "      <td><div title=\"3b118801cf444f5d898042f981fc8f84\"><a href=\"https://dashboard.default-tenant.app.cst-360.iguazio-cd0.com/mlprojects/churn-agents-webinar/jobs/monitor/3b118801cf444f5d898042f981fc8f84/overview\" target=\"_blank\" >...81fc8f84</a></div></td>\n",
       "      <td>Jan 27 22:57:59</td>\n",
       "      <td>completed</td>\n",
       "      <td>run</td>\n",
       "      <td>validate-validate-model</td>\n",
       "      <td><div class=\"dictlist\">model_path=store://models/churn-agents-webinar/churn_model#1:latest@210aba32-f83a-4c16-8c4a-b1545ff14165</div><div class=\"dictlist\">label_column=churn</div><div class=\"dictlist\">allow_validation_failure=True</div></td>\n",
       "      <td><div class=\"dictlist\">passed_suite=False</div></td>\n",
       "    </tr>\n",
       "    <tr>\n",
       "      <td><div title=\"5f6aacc2f334462cae32dc3a351c12c2\"><a href=\"https://dashboard.default-tenant.app.cst-360.iguazio-cd0.com/mlprojects/churn-agents-webinar/jobs/monitor/5f6aacc2f334462cae32dc3a351c12c2/overview\" target=\"_blank\" >...351c12c2</a></div></td>\n",
       "      <td>Jan 27 22:57:06</td>\n",
       "      <td>completed</td>\n",
       "      <td>run</td>\n",
       "      <td>train</td>\n",
       "      <td><div class=\"dictlist\">label_column=churn</div><div class=\"dictlist\">model_name=churn_model</div></td>\n",
       "      <td><div class=\"dictlist\">best_iteration=4</div><div class=\"dictlist\">accuracy=0.9583333333333334</div><div class=\"dictlist\">f1_score=0.8571428571428571</div><div class=\"dictlist\">precision_score=0.868421052631579</div><div class=\"dictlist\">recall_score=0.8461538461538461</div><div class=\"dictlist\">model_uri=store://models/churn-agents-webinar/churn_model#1:latest@210aba32-f83a-4c16-8c4a-b1545ff14165</div></td>\n",
       "    </tr>\n",
       "    <tr>\n",
       "      <td><div title=\"ab20df0abcd24ff0a42459055aafc720\"><a href=\"https://dashboard.default-tenant.app.cst-360.iguazio-cd0.com/mlprojects/churn-agents-webinar/jobs/monitor/ab20df0abcd24ff0a42459055aafc720/overview\" target=\"_blank\" >...5aafc720</a></div></td>\n",
       "      <td>Jan 27 22:56:35</td>\n",
       "      <td>completed</td>\n",
       "      <td>run</td>\n",
       "      <td>validate-validate-train-test-split</td>\n",
       "      <td><div class=\"dictlist\">label_column=churn</div><div class=\"dictlist\">allow_validation_failure=True</div></td>\n",
       "      <td><div class=\"dictlist\">passed_suite=True</div></td>\n",
       "    </tr>\n",
       "    <tr>\n",
       "      <td><div title=\"0f218d2d996c442abb0ecf4de912e5a0\"><a href=\"https://dashboard.default-tenant.app.cst-360.iguazio-cd0.com/mlprojects/churn-agents-webinar/jobs/monitor/0f218d2d996c442abb0ecf4de912e5a0/overview\" target=\"_blank\" >...e912e5a0</a></div></td>\n",
       "      <td>Jan 27 22:56:09</td>\n",
       "      <td>completed</td>\n",
       "      <td>run</td>\n",
       "      <td>data-process-data</td>\n",
       "      <td><div class=\"dictlist\">label_column=churn</div><div class=\"dictlist\">test_size=0.2</div><div class=\"dictlist\">ordinal_columns=['international_plan', 'voice_mail_plan']</div><div class=\"dictlist\">drop_columns=['area_code', 'chat_log', 'state']</div><div class=\"dictlist\">sentiment_column=sentiment_label</div></td>\n",
       "      <td></td>\n",
       "    </tr>\n",
       "    <tr>\n",
       "      <td><div title=\"75290a20d52c40d08b32afb9138e6dda\"><a href=\"https://dashboard.default-tenant.app.cst-360.iguazio-cd0.com/mlprojects/churn-agents-webinar/jobs/monitor/75290a20d52c40d08b32afb9138e6dda/overview\" target=\"_blank\" >...138e6dda</a></div></td>\n",
       "      <td>Jan 27 22:55:18</td>\n",
       "      <td>completed</td>\n",
       "      <td>run</td>\n",
       "      <td>validate-validate-data-integrity</td>\n",
       "      <td><div class=\"dictlist\">label_column=churn</div><div class=\"dictlist\">allow_validation_failure=True</div></td>\n",
       "      <td><div class=\"dictlist\">passed_suite=False</div></td>\n",
       "    </tr>\n",
       "    <tr>\n",
       "      <td><div title=\"cd80b696735f4988a9c5d8bc3562dc1b\"><a href=\"https://dashboard.default-tenant.app.cst-360.iguazio-cd0.com/mlprojects/churn-agents-webinar/jobs/monitor/cd80b696735f4988a9c5d8bc3562dc1b/overview\" target=\"_blank\" >...3562dc1b</a></div></td>\n",
       "      <td>Jan 27 22:51:41</td>\n",
       "      <td>completed</td>\n",
       "      <td>run</td>\n",
       "      <td>data-sentiment-analysis</td>\n",
       "      <td><div class=\"dictlist\">sentiment_model=cardiffnlp/twitter-roberta-base-sentiment-latest</div><div class=\"dictlist\">text_column=chat_log</div></td>\n",
       "      <td></td>\n",
       "    </tr>\n",
       "    <tr>\n",
       "      <td><div title=\"f8896605fccb49309896db46f39ccd3f\"><a href=\"https://dashboard.default-tenant.app.cst-360.iguazio-cd0.com/mlprojects/churn-agents-webinar/jobs/monitor/f8896605fccb49309896db46f39ccd3f/overview\" target=\"_blank\" >...f39ccd3f</a></div></td>\n",
       "      <td>Jan 27 22:50:53</td>\n",
       "      <td>completed</td>\n",
       "      <td>run</td>\n",
       "      <td>data-get-data</td>\n",
       "      <td></td>\n",
       "      <td></td>\n",
       "    </tr>\n",
       "  </tbody>\n",
       "</table>"
      ],
      "text/plain": [
       "<IPython.core.display.HTML object>"
      ]
     },
     "metadata": {},
     "output_type": "display_data"
    }
   ],
   "source": [
    "train_run_id = project.run(\n",
    "    name=\"main\",\n",
    "    arguments=arguments,\n",
    "    dirty=True,\n",
    "    watch=True\n",
    ")"
   ]
  },
  {
   "cell_type": "markdown",
   "id": "0dfeee46-4f82-4277-aad1-3cc5583ca8f3",
   "metadata": {},
   "source": [
    "### Test Model Endpoint"
   ]
  },
  {
   "cell_type": "code",
   "execution_count": 9,
   "id": "91321abf-6373-49e8-8603-2c9af1b27683",
   "metadata": {},
   "outputs": [],
   "source": [
    "serving_fn = project.get_function(\"serving\")"
   ]
  },
  {
   "cell_type": "code",
   "execution_count": 10,
   "id": "292500a1-7c45-45ac-ae8d-e43153ecb55d",
   "metadata": {},
   "outputs": [],
   "source": [
    "test = mlrun.get_dataitem(\"store://datasets/churn-agents-webinar/data-process-data_test#0:latest\").as_df()\n",
    "test = test.drop(\"churn\", axis=1)\n",
    "data = test.head(5).to_dict(orient=\"split\")[\"data\"]"
   ]
  },
  {
   "cell_type": "code",
   "execution_count": 11,
   "id": "cdb6dbda-1d97-472f-803d-b26655210e38",
   "metadata": {},
   "outputs": [],
   "source": [
    "# data"
   ]
  },
  {
   "cell_type": "code",
   "execution_count": 14,
   "id": "bcb10cb7-bb10-4c71-8457-7bac200d7528",
   "metadata": {},
   "outputs": [
    {
     "name": "stdout",
     "output_type": "stream",
     "text": [
      "> 2025-01-27 23:00:31,924 [info] Invoking function: {\"method\":\"POST\",\"path\":\"http://nuclio-churn-agents-webinar-serving.default-tenant.svc.cluster.local:8080/v2/models/churn_model/predict\"}\n",
      "CPU times: user 14.8 ms, sys: 0 ns, total: 14.8 ms\n",
      "Wall time: 22.4 ms\n"
     ]
    },
    {
     "data": {
      "text/plain": [
       "{'id': '7a8e3c4b-39cf-4697-a9b0-d661fed881f2',\n",
       " 'model_name': 'churn_model',\n",
       " 'outputs': [0.005,\n",
       "  0.0,\n",
       "  0.0016666666666666666,\n",
       "  0.012083333333333333,\n",
       "  0.008333333333333333],\n",
       " 'timestamp': '2025-01-27 23:00:31.938748+00:00',\n",
       " 'model_version': 'latest'}"
      ]
     },
     "execution_count": 14,
     "metadata": {},
     "output_type": "execute_result"
    }
   ],
   "source": [
    "%%time\n",
    "serving_fn.invoke(\n",
    "    \"/v2/models/churn_model/predict\",\n",
    "    body={\n",
    "        \"inputs\": data\n",
    "    }\n",
    ")"
   ]
  },
  {
   "cell_type": "code",
   "execution_count": null,
   "id": "c884814d-9483-4dfb-bdb8-be33aaa69c43",
   "metadata": {},
   "outputs": [],
   "source": []
  }
 ],
 "metadata": {
  "kernelspec": {
   "display_name": "churn-v2",
   "language": "python",
   "name": "conda-env-.conda-churn-v2-py"
  },
  "language_info": {
   "codemirror_mode": {
    "name": "ipython",
    "version": 3
   },
   "file_extension": ".py",
   "mimetype": "text/x-python",
   "name": "python",
   "nbconvert_exporter": "python",
   "pygments_lexer": "ipython3",
   "version": "3.9.21"
  }
 },
 "nbformat": 4,
 "nbformat_minor": 5
}
