{
 "cells": [
  {
   "cell_type": "markdown",
   "id": "b26905cc-59be-4d0a-9edc-01c18a9932af",
   "metadata": {},
   "source": [
    "# Offer Generation Agent"
   ]
  },
  {
   "cell_type": "code",
   "execution_count": 1,
   "id": "e7dbcbf4-b5f0-4e7a-a5b4-39b9a89ca6d9",
   "metadata": {},
   "outputs": [
    {
     "data": {
      "text/plain": [
       "True"
      ]
     },
     "execution_count": 1,
     "metadata": {},
     "output_type": "execute_result"
    }
   ],
   "source": [
    "from pathlib import Path\n",
    "\n",
    "from langchain.agents import AgentExecutor, tool, create_tool_calling_agent\n",
    "from langchain_community.document_loaders import UnstructuredMarkdownLoader\n",
    "from langchain_text_splitters import CharacterTextSplitter\n",
    "from langchain_community.vectorstores import Chroma\n",
    "from langchain_openai import OpenAIEmbeddings\n",
    "from langchain_text_splitters import MarkdownHeaderTextSplitter\n",
    "from langchain.tools.retriever import create_retriever_tool\n",
    "from langchain.pydantic_v1 import BaseModel, Field\n",
    "from langchain_openai.chat_models import ChatOpenAI\n",
    "from langchain_core.prompts import PromptTemplate, ChatPromptTemplate, MessagesPlaceholder\n",
    "from langchain_core.output_parsers import StrOutputParser\n",
    "\n",
    "from dotenv import load_dotenv\n",
    "\n",
    "load_dotenv()"
   ]
  },
  {
   "cell_type": "markdown",
   "id": "8a93536b-2b55-486b-bb6d-f02b4cf66998",
   "metadata": {},
   "source": [
    "## Tools"
   ]
  },
  {
   "cell_type": "markdown",
   "id": "ccdb5ba9-b5e6-49ae-89dc-9c55cd2b01a9",
   "metadata": {},
   "source": [
    "### Style Guidelines Retriever Tool"
   ]
  },
  {
   "cell_type": "code",
   "execution_count": 2,
   "id": "5c6e18c5-10f1-4134-b579-c728b2701bc6",
   "metadata": {},
   "outputs": [],
   "source": [
    "text_splitter = MarkdownHeaderTextSplitter(\n",
    "    headers_to_split_on=[\n",
    "        (\"#\", \"Header 1\"),\n",
    "        (\"##\", \"Header 2\"),\n",
    "        (\"###\", \"Header 3\"),\n",
    "    ],\n",
    "    strip_headers=False\n",
    ")\n",
    "texts = text_splitter.split_text(Path(\"data/style_guidelines_kb.md\").read_text())"
   ]
  },
  {
   "cell_type": "code",
   "execution_count": 3,
   "id": "61b12d77-10cd-4a52-897b-5de5aba510bb",
   "metadata": {},
   "outputs": [],
   "source": [
    "embeddings = OpenAIEmbeddings()\n",
    "db = Chroma.from_documents(texts, embeddings)\n",
    "retriever = db.as_retriever(k=3)"
   ]
  },
  {
   "cell_type": "code",
   "execution_count": 4,
   "id": "0a9b37e0-e5f6-448b-a45f-9731b0235aad",
   "metadata": {},
   "outputs": [],
   "source": [
    "style_guidelines_retriever_tool = create_retriever_tool(\n",
    "    retriever,\n",
    "    \"style_guidelines_retriever_tool\",\n",
    "    \"A tool for retrieving guidelines on creating personalized promotional email subjects and contents for customers, emphasizing a personable tone, customer focus, clarity, and a clear call-to-action, while maintaining brand alignment and accessibility. Make sure to search for relevent guidelines around structure, content, subject, etc. before writing the email.\",\n",
    ")"
   ]
  },
  {
   "cell_type": "code",
   "execution_count": 5,
   "id": "3670a9b7-7755-42dc-ac84-deaab2f8d71a",
   "metadata": {},
   "outputs": [
    {
     "data": {
      "text/plain": [
       "'### Email Structure  \\n1. **Subject Line:**  \\n- Capture attention.\\n- Highlight the offer or benefit.\\n- Keep it concise (50 characters or fewer).  \\n**Examples:**  \\n- \"Stay with Us and Save 20%!\"\\n- \"Thank You for 2 Years! Here’s a Special Gift.\"  \\n2. **Greeting:**  \\n- Use the customer’s name for personalization.  \\n**Examples:**  \\n- \"Hi Alex,\"\\n- \"Dear Maria,\"  \\n3. **Introduction:**  \\n- Acknowledge the customer’s relationship with the company.\\n- Set the stage for the offer.  \\n**Examples:**  \\n- \"We appreciate you being a valued customer for the past 18 months.\"\\n- \"Thank you for your continued loyalty.\"  \\n4. **Body:**  \\n- Highlight the promotion and its benefits.\\n- Tailor the message to the customer’s attributes (e.g., churn likelihood, usage).\\n- Provide a reason for the offer (e.g., anniversary, feedback, loyalty).  \\n**Examples:**  \\n- \"We noticed you’ve been making the most of your plan. As a thank-you, we’re offering you 20% off your bill for the next six months.\"\\n- \"Since you’ve been with us for over two years, we’re excited to offer you a free device upgrade.\"  \\n5. **Call-to-Action (CTA):**  \\n- Clearly state the action the customer should take.\\n- Include a button or link.  \\n**Examples:**  \\n- \"Click below to claim your exclusive discount!\"\\n- \"Schedule your free upgrade today!\"  \\n6. **Closing:**  \\n- Reinforce the offer and end with a friendly tone.\\n- Sign off with the company name.  \\n**Examples:**  \\n- \"We’re excited to continue serving you. Enjoy your special offer!\"\\n- \"Warm regards, IGZ Telecom\"  \\n---\\n\\n### Additional Notes  \\n- Avoid generic phrases like \"Act now!\" or \"Limited-time only!\" unless genuinely time-sensitive.\\n- Regularly update templates to reflect seasonal or trending campaigns.\\n- Ensure all emails comply with legal and privacy standards (e.g., opt-out options).\\n\\n### General Principles  \\n1. **Personable Tone:** Emails should feel conversational and friendly. Avoid overly formal language but maintain professionalism.\\n2. **Customer Focus:** Incorporate details specific to the customer, such as their usage patterns, account history, and sentiment profile.\\n3. **Clarity:** Ensure the email is easy to read. Avoid jargon and long, complex sentences.\\n4. **Call-to-Action:** Include a clear and compelling call-to-action (CTA) encouraging the customer to take advantage of the offer.\\n5. **Brand Alignment:** Maintain alignment with the company’s branding and values.\\n6. **Accessibility:** Ensure the email is easily scannable and mobile-friendly.  \\n---\\n\\n### Style Guidelines  \\n1. **Language:**  \\n- Use positive, enthusiastic language.\\n- Avoid overpromising or making unverified claims.\\n- Be concise.  \\n**Acceptable:**  \\n- \"Enjoy a special thank-you gift for being a loyal customer!\"\\n- \"We’re here to make your experience even better.\"  \\n**Unacceptable:**  \\n- \"This is your last chance to save money!\"\\n- \"We guarantee you’ll never leave us.\"  \\n2. **Personalization:**  \\n- Reference specific customer attributes.  \\n**Acceptable:**  \\n- \"Since you’ve been with us for 3 years, we’re offering...\"\\n- \"We noticed you’re a heavy data user, so here’s a tailored plan.\"  \\n**Unacceptable:**  \\n- \"You’re just another customer, but here’s a deal.\"\\n- \"Take this offer regardless of your needs.\"  \\n3. **Formatting:**  \\n- Use bullet points for clarity.\\n- Include bold text for key points or CTAs.\\n- Avoid walls of text.  \\n4. **Visuals:**  \\n- Include a company logo and brand colors.\\n- Use high-quality images or graphics sparingly to support the message.  \\n---'"
      ]
     },
     "execution_count": 5,
     "metadata": {},
     "output_type": "execute_result"
    }
   ],
   "source": [
    "style_guidelines_retriever_tool.invoke(\"how to write a call to action?\")"
   ]
  },
  {
   "cell_type": "markdown",
   "id": "fba45ed8-da85-4136-9d49-f99b5997956d",
   "metadata": {},
   "source": [
    "### Generate Email Tool"
   ]
  },
  {
   "cell_type": "code",
   "execution_count": 6,
   "id": "253fbeac-701f-437c-9d4a-2f7fa0918f76",
   "metadata": {},
   "outputs": [],
   "source": [
    "# class GenerateEmailInput(BaseModel):\n",
    "#     customer_insight_report: dict = Field(\n",
    "#         description=\"A customer insight report that includes information on usage, charges, customer service calls, churn probability, and more.\",\n",
    "#         default=None,\n",
    "#     )\n",
    "#     available_promotions: list = Field(\n",
    "#         description=\"List of promotional offers available for this customer\",\n",
    "#         default=None,\n",
    "#     )\n",
    "#     style_guidelines: str = Field(\n",
    "#         description=\"Relevant style guidelines for generating the personalized promotional email\",\n",
    "#         default=None,\n",
    "#     )\n",
    "\n",
    "class GenerateEmailInput(BaseModel):\n",
    "    style_guidelines: str = Field(\n",
    "        description=\"Relevant style guidelines for generating the personalized promotional email. Make sure to include the entirety of the relevant style guidelines.\",\n",
    "        default=None,\n",
    "    )\n",
    "\n",
    "\n",
    "@tool(\"generate_email_tool\", args_schema=GenerateEmailInput)\n",
    "def generate_email_tool(\n",
    "    style_guidelines: str\n",
    "):\n",
    "    \"\"\"\n",
    "    Tool to generate a personalized promotional email based on customer data, promotions, and style guidelines.\n",
    "    Make sure to include the entirety of the relevant style guidelines.\n",
    "    \"\"\"\n",
    "    \n",
    "    llm = ChatOpenAI(name=\"gpt-4o-mini\", temperature=0)\n",
    "    prompt = PromptTemplate(\n",
    "        template=\"\"\"\n",
    "        Generate a personalized promotional email subject and content based on the following customer data, available promotions, and style guidelines.\n",
    "        Choose the single most relevant promotion based on the customer information.\n",
    "        Be sure to adhere to the style guidelines.\n",
    "        \n",
    "        ## Customer data\n",
    "        {customer_insight_report}\n",
    "        \n",
    "        ## Style guidelines\n",
    "        {style_guidelines}\n",
    "        \"\"\"\n",
    "    )\n",
    "    chain = prompt | llm | StrOutputParser()\n",
    "    return chain.invoke(\n",
    "        {\n",
    "            \"customer_insight_report\" : customer_insight_report,\n",
    "            \"style_guidelines\" : style_guidelines\n",
    "        }\n",
    "    )"
   ]
  },
  {
   "cell_type": "markdown",
   "id": "4df00010-6381-41b5-b7fe-799f84e7458e",
   "metadata": {},
   "source": [
    "### Revise Email Tool"
   ]
  },
  {
   "cell_type": "code",
   "execution_count": 7,
   "id": "2982412c-46a8-425c-9d78-21557460d2a0",
   "metadata": {},
   "outputs": [],
   "source": [
    "# class GenerateEmailInput(BaseModel):\n",
    "#     customer_insight_report: dict = Field(\n",
    "#         description=\"A customer insight report that includes information on usage, charges, customer service calls, churn probability, and more.\",\n",
    "#         default=None,\n",
    "#     )\n",
    "#     available_promotions: list = Field(\n",
    "#         description=\"List of promotional offers available for this customer\",\n",
    "#         default=None,\n",
    "#     )\n",
    "#     style_guidelines: str = Field(\n",
    "#         description=\"Relevant style guidelines for generating the personalized promotional email\",\n",
    "#         default=None,\n",
    "#     )\n",
    "\n",
    "class ReviseEmailInput(BaseModel):\n",
    "    generated_email: str = Field(\n",
    "        description=\"Generated promotional email\",\n",
    "        default=None,\n",
    "    )\n",
    "    simulated_customer_feedback: str = Field(\n",
    "        description=\"Simulated customer feedback to improve the email effetiveness.\",\n",
    "        default=None,\n",
    "    )\n",
    "    style_guidelines: str = Field(\n",
    "        description=\"Relevant style guidelines for generating the personalized promotional email\",\n",
    "        default=None,\n",
    "    )\n",
    "\n",
    "\n",
    "@tool(\"revise_email_tool\", args_schema=ReviseEmailInput)\n",
    "def revise_email_tool(\n",
    "    generated_email: str,\n",
    "    simulated_customer_feedback: str,\n",
    "    style_guidelines: str\n",
    "):\n",
    "    \"\"\"\n",
    "    Tool to revise personalized promotional email based on customer data, promotions, style guidelines\n",
    "    and revised customer input.\n",
    "    \"\"\"\n",
    "    \n",
    "    llm = ChatOpenAI(name=\"gpt-4o-mini\", temperature=0)\n",
    "    prompt = PromptTemplate(\n",
    "        template=\"\"\"\n",
    "        Revise the personalized promotional email based on customer data, promotions, style guidelines\n",
    "        and revised customer input. Update the email to better reflect the simulated customer\n",
    "        feedback. Ensure that the changes do not change the factual accuracy\n",
    "        of the available promotions or adherence to style guidelines.\n",
    "        \n",
    "        ## Generated email\n",
    "        {generated_email}\n",
    "        \n",
    "        ## Customer data\n",
    "        {customer_insight_report}\n",
    "        \n",
    "        ## Simulated customer feedback\n",
    "        {simulated_customer_feedback}\n",
    "        \n",
    "        ## Style guidelines\n",
    "        {style_guidelines}\n",
    "        \"\"\"\n",
    "    )\n",
    "    chain = prompt | llm | StrOutputParser()\n",
    "    return chain.invoke(\n",
    "        {\n",
    "            \"email_subject\" : email_subject,\n",
    "            \"customer_insight_report\" : customer_insight_report,\n",
    "            \"style_guidelines\" : style_guidelines,\n",
    "            \"simulated_customer_feedback\" : simulated_customer_feedback\n",
    "        }\n",
    "    )"
   ]
  },
  {
   "cell_type": "markdown",
   "id": "6fcd06bc-94e9-4cca-bd4a-1df9056169d5",
   "metadata": {},
   "source": [
    "### Customer Simulation Tool"
   ]
  },
  {
   "cell_type": "code",
   "execution_count": 8,
   "id": "d7d374cb-f559-4d90-b96a-89dd9d8a7b94",
   "metadata": {},
   "outputs": [],
   "source": [
    "class CustomerSimulationInput(BaseModel):\n",
    "    generated_email: str = Field(\n",
    "        description=\"Generated promotional email\",\n",
    "        default=None,\n",
    "    )\n",
    "\n",
    "\n",
    "@tool(\"customer_simulation_tool\", args_schema=CustomerSimulationInput)\n",
    "def customer_simulation_tool(generated_email: str):\n",
    "    \"\"\"\n",
    "    Tool to see how well the customer will respond to the email - use this to improve the relevance and tone.\n",
    "    \"\"\"\n",
    "    \n",
    "    llm = ChatOpenAI(name=\"gpt-4o-mini\", temperature=0)\n",
    "    prompt = PromptTemplate(\n",
    "        template=\"\"\"\n",
    "        Act as the customer described in the below customer insight report. How successful\n",
    "        would this email be? Describe the effectiveness and potential improvements in a few short sentences.\n",
    "        \n",
    "        ## Customer data\n",
    "        {customer_insight_report}\n",
    "        \n",
    "        ## Generated email\n",
    "        {generated_email}\n",
    "        \"\"\"\n",
    "    )\n",
    "    chain = prompt | llm | StrOutputParser()\n",
    "    return chain.invoke(\n",
    "        {\n",
    "            \"generated_email\" : generated_email,\n",
    "            \"customer_insight_report\" : customer_insight_report,\n",
    "        }\n",
    "    )"
   ]
  },
  {
   "cell_type": "markdown",
   "id": "2d2bb18e-f456-4d4b-965a-ccc31a5191d5",
   "metadata": {},
   "source": [
    "## Agent"
   ]
  },
  {
   "cell_type": "code",
   "execution_count": 9,
   "id": "377de9b6-45c4-40e7-9f32-fd6fdc3c190a",
   "metadata": {},
   "outputs": [],
   "source": [
    "from langchain.globals import set_debug\n",
    "\n",
    "set_debug(False)"
   ]
  },
  {
   "cell_type": "code",
   "execution_count": 10,
   "id": "18d97b4c-6622-4ad9-9b8a-2fc169a2b5bd",
   "metadata": {},
   "outputs": [],
   "source": [
    "tools = [\n",
    "    style_guidelines_retriever_tool,\n",
    "    generate_email_tool,\n",
    "    revise_email_tool,\n",
    "    customer_simulation_tool\n",
    "]"
   ]
  },
  {
   "cell_type": "code",
   "execution_count": 11,
   "id": "e84d3599-74e9-488f-9d39-eff293be7b52",
   "metadata": {},
   "outputs": [],
   "source": [
    "llm = ChatOpenAI(name=\"gpt-4o-mini\", temperature=0)"
   ]
  },
  {
   "cell_type": "code",
   "execution_count": 12,
   "id": "2f8c60fe-4078-4b28-a1fb-d696183b58ae",
   "metadata": {},
   "outputs": [],
   "source": [
    "from langchain_core.tools.render import ToolsRenderer, render_text_description"
   ]
  },
  {
   "cell_type": "code",
   "execution_count": 13,
   "id": "0c714cfa-e591-437a-b9dd-525a681a6420",
   "metadata": {},
   "outputs": [],
   "source": [
    "OLD_PROMPT = \"\"\"\n",
    "Generate a personalized promotional email from IGZ Telecom for the customer using the following flow:\n",
    "- Use the style_guidelines_retriever_tool for email structure, tone, and reference examples.\n",
    "- Use the generate_email_tool to generate the promotional email considering the style guidelines and customer information.\n",
    "- Use the customer_simulation_tool to ensure the email's relevance and get feedback.\n",
    "- Use the style_guidelines_retriever_tool for guidance on updating the email with customer feedback.\n",
    "- Use the revise_email_tool to revise and update the email as needed.\n",
    "- Repeat the above steps as needed to create a high quality and relevant promotional email for the customer.\n",
    "- When you are satisfied with the email, output it without any pre or post amble.\n",
    "\"\"\"\n",
    "# Note: always use the customer_simulation_tool and revise_email_tool to make sure the email will be effective.\n",
    "# OLD_PROMPT = \"\"\"\n",
    "# Your goal is to generate a personalized and highly effective promotional email for the customer. To achieve this, follow these steps:  \n",
    "\n",
    "# 1. Start by using the `calculate_promotion_tool` to identify the most relevant and attractive offers for the customer.  \n",
    "# 2. Retrieve style guidelines (structure, tone, and examples) using the `style_guidelines_retriever_tool` to ensure the email matches the desired tone and format.  \n",
    "# 3. Draft the initial email using the `generate_email_tool`, incorporating the selected offers and style guidelines.  \n",
    "\n",
    "# 4. **Simulate and Improve**:  \n",
    "#    - Use the `customer_simulation_tool` to simulate how the customer might perceive and respond to the email. Pay attention to areas where the email could be more engaging or relevant.  \n",
    "#    - Use the `revise_email_tool` to make improvements based on the simulation feedback.  \n",
    "\n",
    "# 5. **Iterate if Needed**:  \n",
    "#    - Repeat the simulation and revision process as many times as necessary to ensure the email is compelling, personalized, and effective.  \n",
    "\n",
    "# 6. When you are satisfied with the email, output only the final version. Do not include any additional text or explanation.  \n",
    "\n",
    "# **Important Notes:**  \n",
    "# - Always use the `customer_simulation_tool` at least once to validate relevance and effectiveness.  \n",
    "# - Prioritize creating an email that is both engaging and aligned with the customer's preferences and needs.  \n",
    "\n",
    "# \"\"\""
   ]
  },
  {
   "cell_type": "code",
   "execution_count": 14,
   "id": "4aca38cb-608c-4a79-a943-f479be396823",
   "metadata": {},
   "outputs": [],
   "source": [
    "prompt = ChatPromptTemplate.from_messages(\n",
    "            [\n",
    "                (\"system\", OLD_PROMPT),\n",
    "                (\"user\", \"{input}\"),\n",
    "                (\"ai\", \"{agent_scratchpad}\"),\n",
    "            ]\n",
    "        )\n",
    "\n",
    "agent = AgentExecutor(\n",
    "    agent=create_tool_calling_agent(\n",
    "        llm=llm,\n",
    "        tools=tools,\n",
    "        prompt=prompt,\n",
    "    ),\n",
    "    tools=tools,\n",
    "    verbose=True,\n",
    "    handle_parsing_errors=True\n",
    ")"
   ]
  },
  {
   "cell_type": "code",
   "execution_count": 15,
   "id": "4bce5d62-e5aa-4dcf-a923-bf111af99722",
   "metadata": {},
   "outputs": [],
   "source": [
    "customer_insight_report = {\n",
    "    'user_id': 460,\n",
    "    'account_length': '6 years, 7 months',\n",
    "    'total_charge_usage': 'medium-low',\n",
    "    'total_minutes_usage': 'medium',\n",
    "    'number_customer_service_calls': 5,\n",
    "    'sentiment_label': 'neutral',\n",
    "    'account_length_months': 79,\n",
    "    'churn_likelihood_percentage': 0.464,\n",
    "    'support_ticket_summary': 'The customer is concerned about the escalating cost of voice services impacting turnover and is looking for alternative options, but hangs up before the TelCom agent can provide further assistance.',\n",
    "    'available_promotions': [\n",
    "        'Service Credit: $10 off next bill',\n",
    "        'Bundle Offer: Add premium channels for $5/month',\n",
    "        'Anniversary Offer: 1 month free service'\n",
    "    ]\n",
    "}"
   ]
  },
  {
   "cell_type": "code",
   "execution_count": 16,
   "id": "57484663-2917-4872-a788-aa8683ffad10",
   "metadata": {},
   "outputs": [],
   "source": [
    "customer_insight_report = {\n",
    "    'user_id': 2296,\n",
    "    'account_length': '9 years, 9 months',\n",
    "    'total_charge_usage': 'medium',\n",
    "    'total_minutes_usage': 'medium',\n",
    "    'number_customer_service_calls': 2,\n",
    "    'sentiment_label': 'neutral',\n",
    "    'account_length_months': 117,\n",
    "    'churn_likelihood_percentage': 0.01,\n",
    "    'support_ticket_summary': 'The customer is experiencing slow performance on their phone and is requesting an upgrade, with a technician scheduled to come to their home for the upgrade appointment.',\n",
    "    'available_promotions': [\n",
    "        'Bundle Offer: Add premium channels for $5/month',\n",
    "        'Anniversary Offer: 1 month free service'\n",
    "    ]\n",
    "}"
   ]
  },
  {
   "cell_type": "code",
   "execution_count": 17,
   "id": "e4867e91-1f99-415c-8570-d3f78d03c4e9",
   "metadata": {},
   "outputs": [],
   "source": [
    "customer_insight_report = {\n",
    "    'user_id': 1902,\n",
    "    'account_length': '10 years, 5 months',\n",
    "    'total_charge_usage': 'high',\n",
    "    'total_minutes_usage': 'high',\n",
    "    'number_customer_service_calls': 1,\n",
    "    'sentiment_label': 'negative',\n",
    "    'account_length_months': 125,\n",
    "    'churn_likelihood_percentage': 0.792,\n",
    "    'support_ticket_summary': 'Customer is frustrated with the poor customer service they have been receiving for their phone, despite not having any issues with the phone itself.',\n",
    "    'available_promotions': [\n",
    "        'Retention Offer: 20% discount for 6 months',\n",
    "        'Loyalty Offer: Free international minutes',\n",
    "        'Anniversary Offer: 1 month free service'\n",
    "    ]\n",
    "}"
   ]
  },
  {
   "cell_type": "code",
   "execution_count": 18,
   "id": "84aa8113-0cec-459c-bfff-e64148cc479a",
   "metadata": {},
   "outputs": [
    {
     "name": "stderr",
     "output_type": "stream",
     "text": [
      "Error in StdOutCallbackHandler.on_chain_start callback: AttributeError(\"'NoneType' object has no attribute 'get'\")\n"
     ]
    },
    {
     "name": "stdout",
     "output_type": "stream",
     "text": [
      "\u001b[32;1m\u001b[1;3m\n",
      "Invoking: `style_guidelines_retriever_tool` with `{'query': 'personalized promotional email for Peggy'}`\n",
      "\n",
      "\n",
      "\u001b[0m\u001b[36;1m\u001b[1;3m**IGZ Telecom Style Guide for Generating Promotional Email Offers**\n",
      "\n",
      "### Purpose  \n",
      "This guide provides guidelines for crafting effective, personalized promotional email offers for customers. Emails should be engaging, clear, and reflect the specific promotional offers and customer attributes. Use this guide to ensure consistency in tone, language, and structure.  \n",
      "---\n",
      "\n",
      "### General Principles  \n",
      "1. **Personable Tone:** Emails should feel conversational and friendly. Avoid overly formal language but maintain professionalism.\n",
      "2. **Customer Focus:** Incorporate details specific to the customer, such as their usage patterns, account history, and sentiment profile.\n",
      "3. **Clarity:** Ensure the email is easy to read. Avoid jargon and long, complex sentences.\n",
      "4. **Call-to-Action:** Include a clear and compelling call-to-action (CTA) encouraging the customer to take advantage of the offer.\n",
      "5. **Brand Alignment:** Maintain alignment with the company’s branding and values.\n",
      "6. **Accessibility:** Ensure the email is easily scannable and mobile-friendly.  \n",
      "---\n",
      "\n",
      "### Additional Notes  \n",
      "- Avoid generic phrases like \"Act now!\" or \"Limited-time only!\" unless genuinely time-sensitive.\n",
      "- Regularly update templates to reflect seasonal or trending campaigns.\n",
      "- Ensure all emails comply with legal and privacy standards (e.g., opt-out options).\u001b[0m\u001b[32;1m\u001b[1;3m\n",
      "Invoking: `generate_email_tool` with `{'style_guidelines': '1. **Personable Tone:** Emails should feel conversational and friendly. Avoid overly formal language but maintain professionalism.\\n2. **Customer Focus:** Incorporate details specific to the customer, such as their usage patterns, account history, and sentiment profile.\\n3. **Clarity:** Ensure the email is easy to read. Avoid jargon and long, complex sentences.\\n4. **Call-to-Action:** Include a clear and compelling call-to-action (CTA) encouraging the customer to take advantage of the offer.\\n5. **Brand Alignment:** Maintain alignment with the company’s branding and values.\\n6. **Accessibility:** Ensure the email is easily scannable and mobile-friendly.'}`\n",
      "\n",
      "\n",
      "\u001b[0m\u001b[33;1m\u001b[1;3mSubject: Exclusive Offer for Our Valued Customer!\n",
      "\n",
      "Hi there,\n",
      "\n",
      "We hope this email finds you well! We've noticed that you've been with us for 10 years and 5 months, and we truly appreciate your loyalty. We understand that you've had a frustrating experience with our customer service recently, and we want to make it right for you.\n",
      "\n",
      "As a token of our appreciation, we're excited to offer you a special Retention Offer: 20% discount for 6 months on your service. We value your feedback and want to ensure you have a positive experience with us moving forward.\n",
      "\n",
      "Don't miss out on this exclusive offer tailored just for you. Simply click the link below to redeem your discount and continue enjoying our high-quality service.\n",
      "\n",
      "Claim your offer now!\n",
      "\n",
      "We're here to assist you every step of the way. If you have any questions or need assistance, feel free to reach out to our customer support team.\n",
      "\n",
      "Thank you for being a valued member of our community.\n",
      "\n",
      "Warm regards,\n",
      "[Your Company Name] Team\u001b[0m\u001b[32;1m\u001b[1;3mSubject: Exclusive Offer for Our Valued Customer!\n",
      "\n",
      "Hi Peggy,\n",
      "\n",
      "We hope this email finds you well! We've noticed that you've been with us for 10 years and 5 months, and we truly appreciate your loyalty. We understand that you've had a frustrating experience with our customer service recently, and we want to make it right for you.\n",
      "\n",
      "As a token of our appreciation, we're excited to offer you a special Retention Offer: 20% discount for 6 months on your service. We value your feedback and want to ensure you have a positive experience with us moving forward.\n",
      "\n",
      "Don't miss out on this exclusive offer tailored just for you. Simply click the link below to redeem your discount and continue enjoying our high-quality service.\n",
      "\n",
      "Claim your offer now!\n",
      "\n",
      "We're here to assist you every step of the way. If you have any questions or need assistance, feel free to reach out to our customer support team.\n",
      "\n",
      "Thank you for being a valued member of our community.\n",
      "\n",
      "Warm regards,\n",
      "IGZ Telecom Team\u001b[0m\n",
      "\n",
      "\u001b[1m> Finished chain.\u001b[0m\n"
     ]
    }
   ],
   "source": [
    "email = agent.invoke(\n",
    "    input={\"input\" : \"Write a promotional email for Peggy\"},\n",
    ")"
   ]
  },
  {
   "cell_type": "code",
   "execution_count": 19,
   "id": "49716983-597e-4243-bf54-bedc8cb08ecb",
   "metadata": {},
   "outputs": [
    {
     "name": "stdout",
     "output_type": "stream",
     "text": [
      "Subject: Exclusive Offer for Our Valued Customer!\n",
      "\n",
      "Hi Peggy,\n",
      "\n",
      "We hope this email finds you well! We've noticed that you've been with us for 10 years and 5 months, and we truly appreciate your loyalty. We understand that you've had a frustrating experience with our customer service recently, and we want to make it right for you.\n",
      "\n",
      "As a token of our appreciation, we're excited to offer you a special Retention Offer: 20% discount for 6 months on your service. We value your feedback and want to ensure you have a positive experience with us moving forward.\n",
      "\n",
      "Don't miss out on this exclusive offer tailored just for you. Simply click the link below to redeem your discount and continue enjoying our high-quality service.\n",
      "\n",
      "Claim your offer now!\n",
      "\n",
      "We're here to assist you every step of the way. If you have any questions or need assistance, feel free to reach out to our customer support team.\n",
      "\n",
      "Thank you for being a valued member of our community.\n",
      "\n",
      "Warm regards,\n",
      "IGZ Telecom Team\n"
     ]
    }
   ],
   "source": [
    "print(email[\"output\"])"
   ]
  }
 ],
 "metadata": {
  "kernelspec": {
   "display_name": "churn",
   "language": "python",
   "name": "conda-env-.conda-churn-py"
  },
  "language_info": {
   "codemirror_mode": {
    "name": "ipython",
    "version": 3
   },
   "file_extension": ".py",
   "mimetype": "text/x-python",
   "name": "python",
   "nbconvert_exporter": "python",
   "pygments_lexer": "ipython3",
   "version": "3.9.21"
  }
 },
 "nbformat": 4,
 "nbformat_minor": 5
}
