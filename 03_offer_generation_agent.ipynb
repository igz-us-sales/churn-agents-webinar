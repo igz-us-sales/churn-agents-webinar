{
 "cells": [
  {
   "cell_type": "markdown",
   "id": "b26905cc-59be-4d0a-9edc-01c18a9932af",
   "metadata": {},
   "source": [
    "# Offer Generation and Compliance Agent"
   ]
  },
  {
   "cell_type": "code",
   "execution_count": 1,
   "id": "e7dbcbf4-b5f0-4e7a-a5b4-39b9a89ca6d9",
   "metadata": {},
   "outputs": [
    {
     "data": {
      "text/plain": [
       "True"
      ]
     },
     "execution_count": 1,
     "metadata": {},
     "output_type": "execute_result"
    }
   ],
   "source": [
    "from enum import Enum\n",
    "from pathlib import Path\n",
    "\n",
    "from dotenv import load_dotenv\n",
    "from langchain.agents import AgentExecutor, create_tool_calling_agent, tool\n",
    "from langchain.output_parsers.enum import EnumOutputParser\n",
    "from langchain.pydantic_v1 import BaseModel, Field\n",
    "from langchain.tools.retriever import create_retriever_tool\n",
    "from langchain_community.document_loaders import UnstructuredMarkdownLoader\n",
    "from langchain_community.vectorstores import Chroma\n",
    "from langchain_core.output_parsers import StrOutputParser\n",
    "from langchain_core.prompts import ChatPromptTemplate, MessagesPlaceholder, PromptTemplate\n",
    "from langchain_openai import OpenAIEmbeddings\n",
    "from langchain_openai.chat_models import ChatOpenAI\n",
    "from langchain_text_splitters import CharacterTextSplitter, MarkdownHeaderTextSplitter\n",
    "\n",
    "load_dotenv()"
   ]
  },
  {
   "cell_type": "markdown",
   "id": "ccdb5ba9-b5e6-49ae-89dc-9c55cd2b01a9",
   "metadata": {},
   "source": [
    "## Data Ingestion"
   ]
  },
  {
   "cell_type": "markdown",
   "id": "233c6732-c827-4c22-a2ff-c3f6e00f112f",
   "metadata": {},
   "source": [
    "### Style Guidelines "
   ]
  },
  {
   "cell_type": "code",
   "execution_count": 2,
   "id": "5c6e18c5-10f1-4134-b579-c728b2701bc6",
   "metadata": {},
   "outputs": [],
   "source": [
    "text_splitter = MarkdownHeaderTextSplitter(\n",
    "    headers_to_split_on=[\n",
    "        (\"#\", \"Header 1\"),\n",
    "        (\"##\", \"Header 2\"),\n",
    "        (\"###\", \"Header 3\"),\n",
    "    ],\n",
    "    strip_headers=False\n",
    ")\n",
    "texts = text_splitter.split_text(Path(\"data/style_guidelines_kb.md\").read_text())"
   ]
  },
  {
   "cell_type": "code",
   "execution_count": 3,
   "id": "61b12d77-10cd-4a52-897b-5de5aba510bb",
   "metadata": {},
   "outputs": [],
   "source": [
    "embeddings = OpenAIEmbeddings()\n",
    "style_guidelines_db = Chroma.from_documents(texts, embeddings, collection_name=\"style_guidelines\")\n",
    "style_guidelines_retriever = style_guidelines_db.as_retriever(k=3)"
   ]
  },
  {
   "cell_type": "code",
   "execution_count": 4,
   "id": "496667a2-597b-4b53-a2bc-17205cd385ce",
   "metadata": {},
   "outputs": [
    {
     "data": {
      "text/plain": [
       "Document(metadata={'Header 1': 'IGZ Telecom Style Guide for Generating Promotional Email Offers', 'Header 3': 'Additional Notes'}, page_content='### Additional Notes  \\n- Avoid generic phrases like \"Act now!\" or \"Limited-time only!\" unless genuinely time-sensitive.\\n- Regularly update templates to reflect seasonal or trending campaigns.\\n- Ensure all emails comply with legal and privacy standards (e.g., opt-out options).')"
      ]
     },
     "execution_count": 4,
     "metadata": {},
     "output_type": "execute_result"
    }
   ],
   "source": [
    "style_guidelines_retriever.invoke(\"call to action\")[0]"
   ]
  },
  {
   "cell_type": "markdown",
   "id": "5386cfdd-9046-4f77-a451-c52c7c09bcf8",
   "metadata": {},
   "source": [
    "### Compliance Guidelines"
   ]
  },
  {
   "cell_type": "code",
   "execution_count": 5,
   "id": "73d65879-6602-4d76-814e-b6797762a3eb",
   "metadata": {},
   "outputs": [],
   "source": [
    "text_splitter = MarkdownHeaderTextSplitter(\n",
    "    headers_to_split_on=[\n",
    "        (\"#\", \"Header 1\"),\n",
    "        (\"##\", \"Header 2\"),\n",
    "        (\"###\", \"Header 3\"),\n",
    "    ],\n",
    "    strip_headers=False\n",
    ")\n",
    "texts = text_splitter.split_text(Path(\"data/compliance_guidelines_kb.md\").read_text())"
   ]
  },
  {
   "cell_type": "code",
   "execution_count": 6,
   "id": "c68f9dd4-ed59-4453-81b3-140a28f106e3",
   "metadata": {},
   "outputs": [],
   "source": [
    "embeddings = OpenAIEmbeddings()\n",
    "compliance_guidelines_db = Chroma.from_documents(texts, embeddings, collection_name=\"compliance_guidelines\")\n",
    "compliance_guidelines_retriever = compliance_guidelines_db.as_retriever(k=3)"
   ]
  },
  {
   "cell_type": "code",
   "execution_count": 7,
   "id": "c93827dd-aac3-4a92-a921-ccfc72045376",
   "metadata": {},
   "outputs": [
    {
     "data": {
      "text/plain": [
       "Document(metadata={'Header 2': 'IGZ Telecom Compliance and Risk Guidelines for Promotional Email Offers', 'Header 3': 'Examples of Non-Compliant Content'}, page_content='### Examples of Non-Compliant Content  \\n**Example 1: Misleading Claim**\\n*\"Act now to receive the best deal in the market—guaranteed!\"*  \\n**Issues:**\\n- Unverifiable claim (\"best deal in the market\").\\n- Lack of disclaimer or conditions for the guarantee.  \\n**Example 2: Incomplete Terms**\\n*\"Get a free phone when you switch to IGZ Telecom!\"*  \\n**Issues:**\\n- No mention of plan requirements, trade-in conditions, or other restrictions.')"
      ]
     },
     "execution_count": 7,
     "metadata": {},
     "output_type": "execute_result"
    }
   ],
   "source": [
    "compliance_guidelines_retriever.invoke(\"misleading claim\")[0]"
   ]
  },
  {
   "cell_type": "markdown",
   "id": "bd0ee8a8-7bf2-463c-b316-052cb54dc743",
   "metadata": {},
   "source": [
    "## Agent"
   ]
  },
  {
   "cell_type": "markdown",
   "id": "dad4b04b-bfb7-492e-8437-e8cd5e92a467",
   "metadata": {},
   "source": [
    "### State"
   ]
  },
  {
   "cell_type": "code",
   "execution_count": 8,
   "id": "388b2172-049c-41bd-b845-06b2c635855c",
   "metadata": {},
   "outputs": [],
   "source": [
    "from langgraph.graph import StateGraph, START, END\n",
    "\n",
    "from pydantic import BaseModel\n",
    "\n",
    "\n",
    "# The overall state of the graph (this is the public state shared across nodes)\n",
    "class OverallState(BaseModel):\n",
    "    customer_insight_report: dict\n",
    "    num_revisions: int\n",
    "    style_guidelines: str = None\n",
    "    compliance_guidelines: str = None\n",
    "    simulated_customer_feedback: str = None\n",
    "    compliance_feedback: str = None\n",
    "    generated_email: str = None\n",
    "    customer_feedback_revision_required: bool = None\n",
    "    compliance_revision_required: bool = None\n",
    "    final_compliance_routing: str = None\n",
    "    final_compliance_routing_reasoning: str = None"
   ]
  },
  {
   "cell_type": "markdown",
   "id": "9bdff9e3-19b1-425a-9055-932b792ea36b",
   "metadata": {},
   "source": [
    "### Nodes"
   ]
  },
  {
   "cell_type": "code",
   "execution_count": 9,
   "id": "1cd576e2-f87f-497d-8b7e-6247b171f1cc",
   "metadata": {},
   "outputs": [],
   "source": [
    "def retrieve_guidelines_node(state: OverallState):\n",
    "    print(\"RETRIEVING STYLE GUIDELINES\")\n",
    "    \n",
    "    def format_docs(docs):\n",
    "        return \"\\n\\n\".join([d.page_content for d in docs])\n",
    "    \n",
    "    template = \"\"\"\n",
    "    For the following customer, come up with a list of 5 comma separated keywords to query the most\n",
    "    relevant style guidelines for a peronsalized email in terms of email structure and tone.\n",
    "\n",
    "    Customer insight report:\n",
    "    {customer_insight_report}\n",
    "    \"\"\"\n",
    "    prompt = ChatPromptTemplate.from_template(template)\n",
    "    llm = ChatOpenAI(name=\"gpt-4o-mini\", temperature=0)\n",
    "    chain = prompt | llm | StrOutputParser() | style_guidelines_retriever | format_docs\n",
    "    \n",
    "    style_guidelines = chain.invoke({\"customer_insight_report\" : state.customer_insight_report})\n",
    "    \n",
    "    print(\"RETRIEVING COMPLIANCE GUIDELINES\")\n",
    "    template = \"\"\"\n",
    "    For the following customer, come up with a list of 5 comma separated keywords to query the most\n",
    "    relevant compliance guidelines for generating a promotional email to ensure it adheres to IGZ Telecom policies.\n",
    "\n",
    "    Customer insight report:\n",
    "    {customer_insight_report}\n",
    "    \"\"\"\n",
    "    prompt = ChatPromptTemplate.from_template(template)\n",
    "    llm = ChatOpenAI(name=\"gpt-4o-mini\", temperature=0)\n",
    "    chain = prompt | llm | StrOutputParser() | compliance_guidelines_retriever | format_docs\n",
    "    \n",
    "    compliance_guidelines = chain.invoke({\"customer_insight_report\" : state.customer_insight_report})\n",
    "    \n",
    "    return {\n",
    "        \"style_guidelines\" : style_guidelines,\n",
    "        \"compliance_guidelines\" : compliance_guidelines\n",
    "    }"
   ]
  },
  {
   "cell_type": "code",
   "execution_count": 10,
   "id": "ce82bc4c-a993-449f-8889-4db382f0d632",
   "metadata": {},
   "outputs": [],
   "source": [
    "def generate_email_node(state: OverallState):\n",
    "    print(\"GENERATING EMAIL\")\n",
    "\n",
    "    llm = ChatOpenAI(name=\"gpt-4o-mini\", temperature=0)\n",
    "    prompt = PromptTemplate(\n",
    "        template=\"\"\"\n",
    "        Generate a personalized promotional email subject and content based on the following customer data, available promotions, and style guidelines.\n",
    "        \n",
    "        Instructions:\n",
    "        * Choose the single most relevant promotion based on the customer information\n",
    "        * Be sure to adhere to the IGZ Telecom style guidelines\n",
    "        * Do not explicitly mention usage or sentiment, but use them to craft the message and narrative\n",
    "        * Be sure to address any issues if any\n",
    "        * Only include the email without any pre or post amble\n",
    "        \n",
    "        ## Customer data\n",
    "        {customer_insight_report}\n",
    "        \n",
    "        ## Style guidelines\n",
    "        {style_guidelines}\n",
    "        \n",
    "        ## Compliance guidelines\n",
    "        {compliance_guidelines}\n",
    "        \"\"\"\n",
    "    )\n",
    "    chain = prompt | llm | StrOutputParser()\n",
    "    generated_email = chain.invoke(\n",
    "        {\n",
    "            \"customer_insight_report\" : state.customer_insight_report,\n",
    "            \"style_guidelines\" : state.style_guidelines,\n",
    "            \"compliance_guidelines\" : state.compliance_guidelines\n",
    "        }\n",
    "    )\n",
    "    \n",
    "    return {\"generated_email\" : generated_email}"
   ]
  },
  {
   "cell_type": "code",
   "execution_count": 11,
   "id": "8d83a6d5-25f4-42d4-8499-cce9f977b554",
   "metadata": {},
   "outputs": [],
   "source": [
    "def review_email_node(state: OverallState):\n",
    "    \n",
    "    if state.num_revisions == 0:\n",
    "        return\n",
    "    \n",
    "    print(\"SIMULATING CUSTOMER RESPONSE\")\n",
    "    \n",
    "    class CustomerFeedback(BaseModel):\n",
    "        simulated_customer_feedback: str\n",
    "        revision_required: bool\n",
    "\n",
    "    llm = ChatOpenAI(name=\"gpt-4o-mini\", temperature=0).with_structured_output(CustomerFeedback)\n",
    "    prompt = PromptTemplate(\n",
    "        template=\"\"\"\n",
    "        Act as the customer described in the below customer insight report. How successful\n",
    "        would this email be? Describe the effectiveness and potential improvements in a few short sentences.\n",
    "        \n",
    "        ## Customer data\n",
    "        {customer_insight_report}\n",
    "        \n",
    "        ## Generated email\n",
    "        {generated_email}\n",
    "        \"\"\"\n",
    "    )\n",
    "    chain = prompt | llm\n",
    "\n",
    "    customer_feedback_resp = chain.invoke(\n",
    "        {\n",
    "            \"generated_email\" : state.generated_email,\n",
    "            \"customer_insight_report\" : state.customer_insight_report,\n",
    "        }\n",
    "    )\n",
    "    \n",
    "    print(\"CHECKING EMAIL COMPLIANCE\")\n",
    "    \n",
    "    class ComplianceFeedback(BaseModel):\n",
    "        compliance_feedback: str\n",
    "        revision_required: bool\n",
    "\n",
    "    llm = ChatOpenAI(name=\"gpt-4o-mini\", temperature=0).with_structured_output(ComplianceFeedback)\n",
    "    prompt = PromptTemplate(\n",
    "        template=\"\"\"\n",
    "        You are a legal compliance agent who is tasked with reviewing promotional emails\n",
    "        to verify they adhere to IGZ Telecom Compliance Guidelines.\n",
    "        \n",
    "        ## Customer insight report\n",
    "        {customer_insight_report}\n",
    "        \n",
    "        ## Compliance guidelines\n",
    "        {compliance_guidelines}\n",
    "        \n",
    "        ## Generated email\n",
    "        {generated_email}\n",
    "        \"\"\"\n",
    "    )\n",
    "    chain = prompt | llm\n",
    "\n",
    "    compliance_resp = chain.invoke(\n",
    "        {\n",
    "            \"customer_insight_report\" : state.customer_insight_report,\n",
    "            \"generated_email\" : state.generated_email,\n",
    "            \"compliance_guidelines\" : state.compliance_guidelines,\n",
    "        }\n",
    "    )\n",
    "\n",
    "    return {\n",
    "        \"simulated_customer_feedback\" : customer_feedback_resp.simulated_customer_feedback,\n",
    "        \"customer_feedback_revision_required\" : customer_feedback_resp.revision_required,\n",
    "        \"compliance_feedback\" : compliance_resp.compliance_feedback,\n",
    "        \"compliance_revision_required\" : compliance_resp.revision_required\n",
    "    }"
   ]
  },
  {
   "cell_type": "code",
   "execution_count": 12,
   "id": "51384478-9b00-4d76-a720-dc3d911e700b",
   "metadata": {},
   "outputs": [],
   "source": [
    "def should_revise(state: OverallState):\n",
    "    if state.num_revisions > 0 and (state.customer_feedback_revision_required or state.compliance_revision_required):\n",
    "        return \"revise\"\n",
    "    else:\n",
    "        return \"continue\""
   ]
  },
  {
   "cell_type": "code",
   "execution_count": 13,
   "id": "4edf527a-0a6b-4a43-aa0e-ba114ad3f991",
   "metadata": {},
   "outputs": [],
   "source": [
    "def revise_email_node(state: OverallState):\n",
    "    print(\"REVISING EMAIL\")\n",
    "    \n",
    "    llm = ChatOpenAI(name=\"gpt-4o-mini\", temperature=0)\n",
    "    prompt = PromptTemplate(\n",
    "        template=\"\"\"\n",
    "        Revise the personalized promotional email based on customer data, promotions, style guidelines\n",
    "        and revised customer input\n",
    "        \n",
    "        Instructions:\n",
    "        * Update the email to better reflect the simulated customer feedback\n",
    "        * Ensure that the changes do not change the factual accuracy of the available promotions or adherence to sIGZ Telecom style guidelines\n",
    "        * Do not explicitly mention usage or sentiment, but use them to craft the message and narrative\n",
    "        * Be sure to address any issues if any\n",
    "        * Only include the email without any pre or post amble\n",
    "        \n",
    "        ## Generated email\n",
    "        {generated_email}\n",
    "        \n",
    "        ## Customer data\n",
    "        {customer_insight_report}\n",
    "        \n",
    "        ## Simulated customer feedback\n",
    "        {simulated_customer_feedback}\n",
    "        \n",
    "        ## Compliance feedback\n",
    "        {compliance_feedback}\n",
    "        \n",
    "        ## Style guidelines\n",
    "        {style_guidelines}\n",
    "        \n",
    "        ## Compliance guidelines\n",
    "        {compliance_guidelines}\n",
    "        \"\"\"\n",
    "    )\n",
    "    chain = prompt | llm | StrOutputParser()\n",
    "    revised_email = chain.invoke(\n",
    "        {\n",
    "            \"generated_email\" : state.generated_email,\n",
    "            \"customer_insight_report\" : state.customer_insight_report,\n",
    "            \"style_guidelines\" : state.style_guidelines,\n",
    "            \"simulated_customer_feedback\" : state.simulated_customer_feedback,\n",
    "            \"compliance_guidelines\" : state.compliance_guidelines,\n",
    "            \"compliance_feedback\" : state.compliance_feedback\n",
    "        }\n",
    "    )\n",
    "\n",
    "    return {\n",
    "        \"generated_email\" : revised_email,\n",
    "        \"num_revisions\" : state.num_revisions - 1\n",
    "    }"
   ]
  },
  {
   "cell_type": "code",
   "execution_count": 14,
   "id": "36e9b745-157b-410c-8058-be67bc110e5c",
   "metadata": {},
   "outputs": [],
   "source": [
    "def final_review_node(state: OverallState):\n",
    "    print(\"FINAL COMPLIANCE REVIEW\")\n",
    "    \n",
    "    class FinalComplianceCheckEnum(str, Enum):\n",
    "        PASS = \"Automatically send email\"\n",
    "        REVIEW = \"Human review before sending email\"\n",
    "        FAIL = \"Do not send email, requires manual human intervention\"\n",
    "    \n",
    "    class FinalComplianceRouting(BaseModel):\n",
    "        final_compliance_routing: FinalComplianceCheckEnum\n",
    "        final_compliance_routing_reasoning: str = Field(description=\"Specific reasons on why compliance routing decision was made with examples if necessary.\")\n",
    "        \n",
    "    llm = ChatOpenAI(name=\"gpt-4o-mini\", temperature=0).with_structured_output(FinalComplianceRouting)\n",
    "    prompt = PromptTemplate(\n",
    "        template=\"\"\"\n",
    "        You are a legal compliance agent who is tasked with reviewing the final routing\n",
    "        of a generated promotional email to send, require review, or fail and recommend\n",
    "        human intervention.\n",
    "        \n",
    "        ## Generated email\n",
    "        {generated_email}\n",
    "        \n",
    "        ## Customer data\n",
    "        {customer_insight_report}\n",
    "        \n",
    "        ## Simulated customer feedback\n",
    "        {simulated_customer_feedback}\n",
    "        \n",
    "        ## Compliance feedback\n",
    "        {compliance_feedback}\n",
    "        \n",
    "        ## Style guidelines\n",
    "        {style_guidelines}\n",
    "        \n",
    "        ## Compliance guidelines\n",
    "        {style_guidelines}\n",
    "        \"\"\"\n",
    "    )\n",
    "    chain = prompt | llm\n",
    "    resp = chain.invoke(\n",
    "        {\n",
    "            \"generated_email\" : state.generated_email,\n",
    "            \"customer_insight_report\" : state.customer_insight_report,\n",
    "            \"style_guidelines\" : state.style_guidelines,\n",
    "            \"simulated_customer_feedback\" : state.simulated_customer_feedback,\n",
    "            \"compliance_guidelines\" : state.compliance_guidelines,\n",
    "            \"compliance_feedback\" : state.compliance_feedback\n",
    "        }\n",
    "    )\n",
    "\n",
    "    return {\n",
    "        \"final_compliance_routing\" : resp.final_compliance_routing,\n",
    "        \"final_compliance_routing_reasoning\" : resp.final_compliance_routing_reasoning\n",
    "    }"
   ]
  },
  {
   "cell_type": "markdown",
   "id": "9f0607f0-7f18-4d43-b0d5-b1b133bdf202",
   "metadata": {},
   "source": [
    "### Compile Agent Graph"
   ]
  },
  {
   "cell_type": "code",
   "execution_count": 15,
   "id": "853e8242-d7da-483c-afa7-70842bf7c0bf",
   "metadata": {},
   "outputs": [
    {
     "data": {
      "image/jpeg": "[encoded data removed]",
      "text/plain": [
       "<IPython.core.display.Image object>"
      ]
     },
     "metadata": {},
     "output_type": "display_data"
    }
   ],
   "source": [
    "builder = StateGraph(OverallState)\n",
    "builder.add_node(\"retrieve_guidelines_node\", retrieve_guidelines_node)\n",
    "builder.add_node(\"generate_email_node\", generate_email_node)\n",
    "builder.add_node(\"review_email_node\", review_email_node)\n",
    "builder.add_node(\"revise_email_node\", revise_email_node)\n",
    "builder.add_node(\"final_review_node\", final_review_node)\n",
    "\n",
    "builder.add_edge(START, \"retrieve_guidelines_node\")\n",
    "builder.add_edge(\"retrieve_guidelines_node\", \"generate_email_node\")\n",
    "builder.add_edge(\"generate_email_node\", \"review_email_node\")\n",
    "builder.add_edge(\"revise_email_node\", \"review_email_node\")\n",
    "builder.add_edge(\"final_review_node\", END)\n",
    "\n",
    "builder.add_conditional_edges(\n",
    "    \"review_email_node\",\n",
    "    should_revise,\n",
    "    {\"revise\" : \"revise_email_node\", \"continue\" : \"final_review_node\"}\n",
    ")\n",
    "\n",
    "graph = builder.compile()\n",
    "\n",
    "from IPython.display import Image, display\n",
    "\n",
    "try:\n",
    "    display(Image(graph.get_graph().draw_mermaid_png()))\n",
    "except Exception:\n",
    "    # This requires some extra dependencies and is optional\n",
    "    pass"
   ]
  },
  {
   "cell_type": "markdown",
   "id": "adadf633-db94-4277-ac54-f70761dc06e4",
   "metadata": {},
   "source": [
    "### Test Agent"
   ]
  },
  {
   "cell_type": "code",
   "execution_count": 16,
   "id": "44ecb127-1da1-491b-bb95-80cf1df7ffc4",
   "metadata": {},
   "outputs": [],
   "source": [
    "peggy_report = {\n",
    "    'user_id': 460,\n",
    "    'customer_name' : \"Peggy\",\n",
    "    'account_length': '6 years, 7 months',\n",
    "    'total_charge_usage': 'medium-low',\n",
    "    'total_minutes_usage': 'medium',\n",
    "    'number_customer_service_calls': 5,\n",
    "    'sentiment_label': 'neutral',\n",
    "    'account_length_months': 79,\n",
    "    'churn_likelihood_percentage': 0.464,\n",
    "    'support_ticket_summary': 'The customer is concerned about the escalating cost of voice services impacting turnover and is looking for alternative options, but hangs up before the TelCom agent can provide further assistance.',\n",
    "    'available_promotions': [\n",
    "        'Service Credit: $10 off next bill',\n",
    "        'Bundle Offer: Add premium channels for $5/month',\n",
    "        'Anniversary Offer: 1 month free service'\n",
    "    ]\n",
    "}\n",
    "hank_report = {\n",
    "    'user_id': 2296,\n",
    "    'customer_name' : \"Hank\",\n",
    "    'account_length': '9 years, 9 months',\n",
    "    'total_charge_usage': 'medium',\n",
    "    'total_minutes_usage': 'medium',\n",
    "    'number_customer_service_calls': 2,\n",
    "    'sentiment_label': 'neutral',\n",
    "    'account_length_months': 117,\n",
    "    'churn_likelihood_percentage': 0.01,\n",
    "    'support_ticket_summary': 'The customer is experiencing slow performance on their phone and is requesting an upgrade, with a technician scheduled to come to their home for the upgrade appointment.',\n",
    "    'available_promotions': [\n",
    "        'Bundle Offer: Add premium channels for $5/month',\n",
    "        'Anniversary Offer: 1 month free service'\n",
    "    ]\n",
    "}\n",
    "bobby_report = {\n",
    "    'user_id': 1902,\n",
    "    'customer_name' : \"Bobby\",\n",
    "    'account_length': '10 years, 5 months',\n",
    "    'total_charge_usage': 'high',\n",
    "    'total_minutes_usage': 'high',\n",
    "    'number_customer_service_calls': 1,\n",
    "    'sentiment_label': 'negative',\n",
    "    'account_length_months': 125,\n",
    "    'churn_likelihood_percentage': 0.792,\n",
    "    'support_ticket_summary': 'Customer is frustrated with the poor customer service they have been receiving for their phone, despite not having any issues with the phone itself.',\n",
    "    'available_promotions': [\n",
    "        'Retention Offer: 20% discount for 6 months',\n",
    "        'Loyalty Offer: Free international minutes',\n",
    "        'Anniversary Offer: 1 month free service'\n",
    "    ]\n",
    "}"
   ]
  },
  {
   "cell_type": "code",
   "execution_count": 17,
   "id": "6bc9dbaa-33f6-41b4-a2ff-49caeb916091",
   "metadata": {},
   "outputs": [],
   "source": [
    "customer_insight_report = hank_report"
   ]
  },
  {
   "cell_type": "code",
   "execution_count": 24,
   "id": "167eff4a-cf29-4ae6-9623-5113b9222ce2",
   "metadata": {},
   "outputs": [
    {
     "name": "stdout",
     "output_type": "stream",
     "text": [
      "RETRIEVING STYLE GUIDELINES\n",
      "RETRIEVING COMPLIANCE GUIDELINES\n",
      "GENERATING EMAIL\n",
      "SIMULATING CUSTOMER RESPONSE\n",
      "CHECKING EMAIL COMPLIANCE\n",
      "REVISING EMAIL\n",
      "SIMULATING CUSTOMER RESPONSE\n",
      "CHECKING EMAIL COMPLIANCE\n",
      "REVISING EMAIL\n",
      "FINAL COMPLIANCE REVIEW\n",
      "CPU times: user 477 ms, sys: 0 ns, total: 477 ms\n",
      "Wall time: 13.2 s\n"
     ]
    }
   ],
   "source": [
    "%%time\n",
    "resp = graph.invoke(\n",
    "    {\n",
    "        \"customer_insight_report\": customer_insight_report,\n",
    "        \"num_revisions\" : 2\n",
    "    }\n",
    ")"
   ]
  },
  {
   "cell_type": "code",
   "execution_count": 25,
   "id": "21ef56cc-04b4-43a5-8c45-551a25d1a2a1",
   "metadata": {},
   "outputs": [
    {
     "name": "stdout",
     "output_type": "stream",
     "text": [
      "Subject: 🎉 Special Anniversary Offer Just for You, Hank! 🎁\n",
      "\n",
      "Hi Hank,\n",
      "\n",
      "We value your 9 years and 9 months of loyalty with IGZ Telecom! To express our gratitude, we're thrilled to present you with a special Anniversary Offer: 1 month of free service.\n",
      "\n",
      "Claim Your Free Month Now!\n",
      "\n",
      "Don't miss this exclusive opportunity to enjoy an additional month of service at no extra cost. Simply click below to claim your free month and continue enjoying our premium services.\n",
      "\n",
      "We are committed to providing you with top-notch telecom services and support. If you have any questions about the upgrade you requested for slow performance on your phone, feel free to reach out to us.\n",
      "\n",
      "Warm regards,\n",
      "IGZ Telecom\n"
     ]
    }
   ],
   "source": [
    "print(resp[\"generated_email\"])"
   ]
  },
  {
   "cell_type": "code",
   "execution_count": 26,
   "id": "466ea0fe-9f65-4d21-aeac-39b4dbe4f69c",
   "metadata": {},
   "outputs": [
    {
     "data": {
      "text/plain": [
       "\"The email content meets the compliance guidelines. It accurately presents the Anniversary Offer, includes a clear call-to-action, and maintains a positive tone. The email also respects customer privacy by not including sensitive information and provides an opt-out option. Overall, the email is in compliance with IGZ Telecom's guidelines.\""
      ]
     },
     "execution_count": 26,
     "metadata": {},
     "output_type": "execute_result"
    }
   ],
   "source": [
    "resp[\"compliance_feedback\"]"
   ]
  },
  {
   "cell_type": "code",
   "execution_count": 27,
   "id": "cf02cc87-971a-4332-9e00-c406993fc569",
   "metadata": {},
   "outputs": [
    {
     "data": {
      "text/plain": [
       "'The email is well-written and personalized, making me feel valued as a long-time customer. The Anniversary Offer is a nice gesture and the call-to-action is clear. However, I would appreciate more details on the upgrade process for my phone and how the technician appointment will work.'"
      ]
     },
     "execution_count": 27,
     "metadata": {},
     "output_type": "execute_result"
    }
   ],
   "source": [
    "resp[\"simulated_customer_feedback\"]"
   ]
  },
  {
   "cell_type": "code",
   "execution_count": 28,
   "id": "4a7a9837-8dfd-4b20-9b47-31d2d36a065d",
   "metadata": {},
   "outputs": [
    {
     "data": {
      "text/plain": [
       "<FinalComplianceCheckEnum.REVIEW: 'Human review before sending email'>"
      ]
     },
     "execution_count": 28,
     "metadata": {},
     "output_type": "execute_result"
    }
   ],
   "source": [
    "resp[\"final_compliance_routing\"]"
   ]
  },
  {
   "cell_type": "code",
   "execution_count": 29,
   "id": "2b806d75-4246-40f2-aa1e-53f65ffce874",
   "metadata": {},
   "outputs": [
    {
     "data": {
      "text/plain": [
       "'The email content meets the compliance guidelines and style guidelines. However, there are specific customer feedback requests for more details on the upgrade process and technician appointment. Human review is recommended to address these requests and ensure customer satisfaction.'"
      ]
     },
     "execution_count": 29,
     "metadata": {},
     "output_type": "execute_result"
    }
   ],
   "source": [
    "resp[\"final_compliance_routing_reasoning\"]"
   ]
  },
  {
   "cell_type": "markdown",
   "id": "fea3f519-d96e-4e30-9f1c-8583838989f9",
   "metadata": {},
   "source": [
    "## Gradio UI"
   ]
  },
  {
   "cell_type": "code",
   "execution_count": 30,
   "id": "3814530a-80b6-48a2-94a4-86d5e99a7548",
   "metadata": {},
   "outputs": [
    {
     "name": "stdout",
     "output_type": "stream",
     "text": [
      "Running on local URL:  http://127.0.0.1:7860\n",
      "IMPORTANT: You are using gradio version 3.50.2, however version 4.44.1 is available, please upgrade.\n",
      "--------\n",
      "Running on public URL: https://fd45a05df17cb0d7f0.gradio.live\n",
      "\n",
      "This share link expires in 72 hours. For free permanent hosting and GPU upgrades, run `gradio deploy` from Terminal to deploy to Spaces (https://huggingface.co/spaces)\n"
     ]
    },
    {
     "data": {
      "text/html": [
       "<div><iframe src=\"https://fd45a05df17cb0d7f0.gradio.live\" width=\"100%\" height=\"500\" allow=\"autoplay; camera; microphone; clipboard-read; clipboard-write;\" frameborder=\"0\" allowfullscreen></iframe></div>"
      ],
      "text/plain": [
       "<IPython.core.display.HTML object>"
      ]
     },
     "metadata": {},
     "output_type": "display_data"
    },
    {
     "data": {
      "text/plain": []
     },
     "execution_count": 30,
     "metadata": {},
     "output_type": "execute_result"
    }
   ],
   "source": [
    "import gradio as gr\n",
    "\n",
    "with gr.Blocks() as demo:\n",
    "    with gr.Row():\n",
    "        gr.Markdown(\"# AI Agent for Predictive Customer Churn\")\n",
    "    with gr.Row():\n",
    "        user_dropdown = gr.Dropdown(\n",
    "            [\n",
    "                (\"Peggy\", peggy_report),\n",
    "                (\"Hank\", hank_report),\n",
    "                (\"Bobby\", bobby_report)\n",
    "            ],\n",
    "            scale=4\n",
    "        )\n",
    "        generate_button = gr.Button(\"Generate\")\n",
    "    with gr.Row():\n",
    "        with gr.Column():\n",
    "            gr.Markdown(\"## Customer Insight Report\")\n",
    "            customer_name = gr.Text(\n",
    "                label=\"Customer Name\"\n",
    "            )\n",
    "            account_length = gr.Text(\n",
    "                label=\"Account Length\"\n",
    "            )\n",
    "            total_charge_usage = gr.Radio(\n",
    "                choices=[\"low\", \"medium-low\", \"medium\", \"medium-high\", \"high\"],\n",
    "                label=\"Charge Usage\",\n",
    "            )\n",
    "            total_minutes_usage = gr.Radio(\n",
    "                choices=[\"low\", \"medium-low\", \"medium\", \"medium-high\", \"high\"],\n",
    "                label=\"Minutes Usage\",\n",
    "            )\n",
    "            number_customer_service_calls = gr.Number(\n",
    "                label=\"Number Customer Service Calls\"\n",
    "            )\n",
    "            sentiment_label = gr.Radio(\n",
    "                choices=[\"negative\", \"neutral\", \"positive\"],\n",
    "                label=\"Sentiment\",\n",
    "            )\n",
    "            churn_likelihood_percentage = gr.Slider(\n",
    "                minimum=0,\n",
    "                maximum=100,\n",
    "                label=\"Churn Likelihood Percentage\",\n",
    "            )\n",
    "            support_ticket_summary = gr.Text(\n",
    "                label=\"Support Ticket Summary\"\n",
    "            )\n",
    "            available_promotions = gr.Text(\n",
    "                label=\"Available Promotions\"\n",
    "            )\n",
    "            \n",
    "        with gr.Column():\n",
    "            with gr.Row():\n",
    "                with gr.Column():\n",
    "                    gr.Markdown(\"## Generated Email\")\n",
    "                    generated_email = gr.Textbox(\n",
    "                        label=\"\"\n",
    "                    )\n",
    "            with gr.Row():\n",
    "                with gr.Column():\n",
    "                    gr.Markdown(\"## Feedback + Routing\")\n",
    "                    simulated_customer_feedback = gr.Text(\n",
    "                        label=\"Simulated Customer Feedback\"\n",
    "                    )\n",
    "                    compliance_feedback = gr.Text(\n",
    "                        label=\"Compliance Feedback\"\n",
    "                    )\n",
    "                    final_compliance_routing = gr.Radio(\n",
    "                        choices=[\"pass\", \"review\", \"fail\"],\n",
    "                        label=\"Final Compliance Routing\",\n",
    "                    )\n",
    "                    final_compliance_routing_reasoning = gr.Text(\n",
    "                        label=\"Final Compliance Routing Reasoning\"\n",
    "                    )\n",
    "                    \n",
    "            def generate_email(r):\n",
    "                resp = graph.invoke(\n",
    "                    {\n",
    "                        \"customer_insight_report\": r,\n",
    "                        \"num_revisions\" : 1\n",
    "                    }\n",
    "                )\n",
    "                \n",
    "                return {\n",
    "                    generated_email: resp[\"generated_email\"],\n",
    "                    simulated_customer_feedback: resp[\"simulated_customer_feedback\"],\n",
    "                    compliance_feedback: resp[\"compliance_feedback\"],\n",
    "                    final_compliance_routing: resp[\"final_compliance_routing\"].name.lower(),\n",
    "                    final_compliance_routing_reasoning: resp[\"final_compliance_routing_reasoning\"]\n",
    "                }\n",
    "            \n",
    "        def update_customer_insight_report(r):\n",
    "            if not r:\n",
    "                return [gr.skip()] * 14\n",
    "            else:\n",
    "                return {\n",
    "                    customer_name: r[\"customer_name\"],\n",
    "                    account_length: r[\"account_length\"],\n",
    "                    total_charge_usage: r[\"total_charge_usage\"],\n",
    "                    total_minutes_usage: r[\"total_minutes_usage\"],\n",
    "                    number_customer_service_calls: r[\"number_customer_service_calls\"],\n",
    "                    sentiment_label: r[\"sentiment_label\"],\n",
    "                    churn_likelihood_percentage: round(r[\"churn_likelihood_percentage\"] * 100, 2),\n",
    "                    support_ticket_summary: r[\"support_ticket_summary\"],\n",
    "                    available_promotions: \"\\n\".join([f\"• {i}\" for i in r[\"available_promotions\"]]),\n",
    "                    generated_email: None,\n",
    "                    simulated_customer_feedback: None,\n",
    "                    compliance_feedback: None,\n",
    "                    final_compliance_routing: None,\n",
    "                    final_compliance_routing_reasoning: None\n",
    "                }\n",
    "\n",
    "        customer_insight_report_outputs = [\n",
    "            customer_name, account_length, total_charge_usage, total_minutes_usage,\n",
    "            number_customer_service_calls, sentiment_label, churn_likelihood_percentage,\n",
    "            support_ticket_summary, available_promotions\n",
    "        ]\n",
    "        \n",
    "        generate_email_outputs = [\n",
    "            generated_email, simulated_customer_feedback, compliance_feedback,\n",
    "            final_compliance_routing, final_compliance_routing_reasoning\n",
    "        ]\n",
    "\n",
    "        user_dropdown.change(\n",
    "            fn=update_customer_insight_report,\n",
    "            inputs=user_dropdown,\n",
    "            outputs=customer_insight_report_outputs + generate_email_outputs\n",
    "        )\n",
    "\n",
    "        generate_button.click(\n",
    "            fn=generate_email,\n",
    "            inputs=user_dropdown,\n",
    "            outputs=generate_email_outputs\n",
    "        )\n",
    "\n",
    "demo.launch(share=True)"
   ]
  },
  {
   "cell_type": "code",
   "execution_count": null,
   "id": "b2132b67-532f-4439-964b-1128b524f0bc",
   "metadata": {},
   "outputs": [],
   "source": []
  }
 ],
 "metadata": {
  "kernelspec": {
   "display_name": "churn-v2",
   "language": "python",
   "name": "conda-env-.conda-churn-v2-py"
  },
  "language_info": {
   "codemirror_mode": {
    "name": "ipython",
    "version": 3
   },
   "file_extension": ".py",
   "mimetype": "text/x-python",
   "name": "python",
   "nbconvert_exporter": "python",
   "pygments_lexer": "ipython3",
   "version": "3.9.21"
  }
 },
 "nbformat": 4,
 "nbformat_minor": 5
}
