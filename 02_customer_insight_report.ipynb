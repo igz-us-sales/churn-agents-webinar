{
 "cells": [
  {
   "cell_type": "markdown",
   "id": "a49781bb-922b-44d0-9761-cbbfae0c5b80",
   "metadata": {},
   "source": [
    "# Generate Customer Insight Report"
   ]
  },
  {
   "cell_type": "code",
   "execution_count": 1,
   "id": "927df7fc-6386-4aa4-8095-e2e642ab15d6",
   "metadata": {},
   "outputs": [],
   "source": [
    "import mlrun\n",
    "import pandas as pd\n",
    "from dotenv import load_dotenv\n",
    "from langchain_core.output_parsers import StrOutputParser\n",
    "from langchain_core.prompts import PromptTemplate\n",
    "from langchain_openai.chat_models import ChatOpenAI\n",
    "\n",
    "load_dotenv()\n",
    "\n",
    "CHURN_FEATURES = [\n",
    "    'international_plan',\n",
    "    'voice_mail_plan',\n",
    "    'sentiment_label',\n",
    "    'account_length',\n",
    "    'number_vmail_messages',\n",
    "    'total_day_minutes',\n",
    "    'total_day_calls',\n",
    "    'total_day_charge',\n",
    "    'total_eve_minutes',\n",
    "    'total_eve_calls',\n",
    "    'total_eve_charge',\n",
    "    'total_night_minutes',\n",
    "    'total_night_calls',\n",
    "    'total_night_charge',\n",
    "    'total_intl_minutes',\n",
    "    'total_intl_calls',\n",
    "    'total_intl_charge',\n",
    "    'number_customer_service_calls',\n",
    "    'sentiment_score'\n",
    "]\n",
    "\n",
    "USER_INFO_FEATURES = [\n",
    "    \"account_length\",\n",
    "    \"total_charge_usage\",\n",
    "    \"total_minutes_usage\",\n",
    "    \"number_customer_service_calls\",\n",
    "    \"sentiment_label\"\n",
    "]\n",
    "\n",
    "SENTIMENT_MAPPING = {0 : \"negative\", 1: \"neutral\", 2: \"positive\"}"
   ]
  },
  {
   "cell_type": "code",
   "execution_count": 2,
   "id": "9864f225-d1b4-484f-af9b-69d762f2c7e9",
   "metadata": {},
   "outputs": [
    {
     "name": "stdout",
     "output_type": "stream",
     "text": [
      "Project Source: v3io:///bigdata/churn.zip\n",
      "Exporting project as zip archive to v3io:///bigdata/churn.zip...\n",
      "> 2025-01-27 23:01:02,138 [info] Project loaded successfully: {\"project_name\":\"churn-agents-webinar\"}\n"
     ]
    }
   ],
   "source": [
    "project = mlrun.get_or_create_project(\"churn-agents-webinar\")"
   ]
  },
  {
   "cell_type": "markdown",
   "id": "f6c444e1-b991-40e8-8af5-02549e939a6b",
   "metadata": {},
   "source": [
    "### Load data"
   ]
  },
  {
   "cell_type": "code",
   "execution_count": 3,
   "id": "8c799362-015b-4be0-a8b1-a2b69816519d",
   "metadata": {},
   "outputs": [],
   "source": [
    "all_data = mlrun.get_dataitem(\"store://datasets/churn-agents-webinar/churn#0:latest\").as_df()\n",
    "test_data = mlrun.get_dataitem(\"store://datasets/churn-agents-webinar/data-process-data_test#0:latest\").as_df()"
   ]
  },
  {
   "cell_type": "code",
   "execution_count": 4,
   "id": "f5060f31-6553-4666-af36-9fcf2d60ef2c",
   "metadata": {},
   "outputs": [],
   "source": [
    "all_data[\"total_charge\"] = all_data[\"total_day_charge\"] + all_data[\"total_eve_charge\"] + all_data[\"total_night_charge\"] + all_data[\"total_intl_charge\"]\n",
    "all_data[\"total_charge_usage\"] = pd.qcut(all_data['total_charge'], q=5, labels=['low', 'medium-low', 'medium', 'medium-high', 'high'])\n",
    "\n",
    "all_data[\"total_minutes\"] = all_data[\"total_day_minutes\"] + all_data[\"total_eve_minutes\"] + all_data[\"total_night_minutes\"] + all_data[\"total_intl_minutes\"]\n",
    "all_data[\"total_minutes_usage\"] = pd.qcut(all_data['total_minutes'], q=5, labels=['low', 'medium-low', 'medium', 'medium-high', 'high'])"
   ]
  },
  {
   "cell_type": "code",
   "execution_count": 5,
   "id": "1b568d47-8b00-4fd9-9e20-b3cdbb1c5e7b",
   "metadata": {},
   "outputs": [],
   "source": [
    "test_data = test_data.join(all_data[[\"total_charge_usage\", \"total_minutes_usage\", \"chat_log\"]])"
   ]
  },
  {
   "cell_type": "code",
   "execution_count": 6,
   "id": "c4a42bc9-230c-4c8c-a9d4-28f4466715f2",
   "metadata": {},
   "outputs": [
    {
     "data": {
      "text/plain": [
       "international_plan                                                             0.0\n",
       "voice_mail_plan                                                                0.0\n",
       "sentiment_label                                                                1.0\n",
       "account_length                                                                 117\n",
       "number_vmail_messages                                                            0\n",
       "total_day_minutes                                                            181.5\n",
       "total_day_calls                                                                 95\n",
       "total_day_charge                                                             30.86\n",
       "total_eve_minutes                                                            205.1\n",
       "total_eve_calls                                                                 88\n",
       "total_eve_charge                                                             17.43\n",
       "total_night_minutes                                                          204.0\n",
       "total_night_calls                                                               82\n",
       "total_night_charge                                                            9.18\n",
       "total_intl_minutes                                                            14.7\n",
       "total_intl_calls                                                                 9\n",
       "total_intl_charge                                                             3.97\n",
       "number_customer_service_calls                                                    2\n",
       "sentiment_score                                                            0.69311\n",
       "churn                                                                            0\n",
       "total_charge_usage                                                          medium\n",
       "total_minutes_usage                                                         medium\n",
       "chat_log                         Customer: I have Voice, text and data.\\nTelCom...\n",
       "Name: 2296, dtype: object"
      ]
     },
     "execution_count": 6,
     "metadata": {},
     "output_type": "execute_result"
    }
   ],
   "source": [
    "test_data.iloc[0]"
   ]
  },
  {
   "cell_type": "markdown",
   "id": "5a0152d8-98b4-4f65-893f-3f73e4d76bf2",
   "metadata": {},
   "source": [
    "### Initialize ML and LLM models"
   ]
  },
  {
   "cell_type": "code",
   "execution_count": 7,
   "id": "5f1159cb-a702-43fa-a2d7-52edc3fd2c33",
   "metadata": {},
   "outputs": [],
   "source": [
    "serving_fn = project.get_function(\"serving\")\n",
    "\n",
    "llm = ChatOpenAI(name=\"gpt-4o-mini\", temperature=0)\n",
    "prompt = PromptTemplate(\n",
    "    input_variables=[\"text\"],\n",
    "    template=\"Summarize the following support ticket into 1 or 2 sentences:\\n\\n{text}\\n\"\n",
    ")\n",
    "chain = prompt | llm | StrOutputParser()"
   ]
  },
  {
   "cell_type": "markdown",
   "id": "d1b680f8-8921-4ae5-bd37-9ef94d5c7963",
   "metadata": {},
   "source": [
    "### Generate report"
   ]
  },
  {
   "cell_type": "code",
   "execution_count": 8,
   "id": "ac814676-527a-42e4-a2b4-b4a36e889ace",
   "metadata": {},
   "outputs": [],
   "source": [
    "def get_customer_insight_report(user_id: int) -> dict:\n",
    "    \n",
    "    def format_months(months):\n",
    "        years = months // 12\n",
    "        remaining_months = months % 12\n",
    "        return f\"{years} years, {remaining_months} months\"\n",
    "    \n",
    "    def churn_inference(user_id):\n",
    "        churn_features = test_data[CHURN_FEATURES].loc[user_id].tolist()\n",
    "        resp = serving_fn.invoke(\n",
    "            \"/v2/models/churn_model/predict\",\n",
    "            body={\n",
    "                \"inputs\": [churn_features]\n",
    "            }\n",
    "        )\n",
    "        churn_pct = round(resp[\"outputs\"][0], 3)\n",
    "        return churn_pct\n",
    "    \n",
    "    def summarize_support_ticket(user_id):\n",
    "        return chain.invoke({\"text\" : test_data.loc[user_id, \"chat_log\"]})\n",
    "    \n",
    "    def get_available_promotions(\n",
    "        total_charge_usage: int,\n",
    "        total_minutes_usage: int,\n",
    "        number_customer_service_calls: int,\n",
    "        sentiment_label: str,\n",
    "        account_length_months: int,\n",
    "        churn_likelihood_percentage: float,\n",
    "        **kwargs\n",
    "    ) -> list[str]:\n",
    "\n",
    "        promotions = []\n",
    "\n",
    "        if churn_likelihood_percentage > 0.6 or sentiment_label == \"negative\":\n",
    "            promotions.append(\"Retention Offer: 20% discount for 6 months\")\n",
    "        if total_charge_usage in [\"medium-high\", \"high\"] or total_minutes_usage in [\"medium-high\", \"high\"]:\n",
    "            promotions.append(\"Loyalty Offer: Free international minutes\")\n",
    "        if number_customer_service_calls >= 5:\n",
    "            promotions.append(\"Service Credit: $10 off next bill\")\n",
    "        if sentiment_label == \"positive\" and churn_likelihood_percentage < 0.4:\n",
    "            promotions.append(\"Upgrade Offer: Free device upgrade\")\n",
    "        if churn_likelihood_percentage <= 0.5 and total_charge_usage in [\"medium\", \"medium-low\"]:\n",
    "            promotions.append(\"Bundle Offer: Add premium channels for $5/month\")\n",
    "        if account_length_months > 24:\n",
    "            promotions.append(\"Anniversary Offer: 1 month free service\")\n",
    "\n",
    "        return promotions if promotions else [\"General Offer: 10% discount for 3 months\"]\n",
    "    \n",
    "    user_info = test_data.loc[user_id, USER_INFO_FEATURES]\n",
    "    user_info[\"account_length_months\"] = user_info[\"account_length\"]\n",
    "    user_info[\"account_length\"] = format_months(user_info[\"account_length\"])\n",
    "    user_info[\"churn_likelihood_percentage\"] = churn_inference(user_id)\n",
    "    user_info[\"sentiment_label\"] = SENTIMENT_MAPPING[user_info[\"sentiment_label\"]]\n",
    "    user_info[\"support_ticket_summary\"] = summarize_support_ticket(user_id)\n",
    "    user_info[\"available_promotions\"] = get_available_promotions(**user_info.to_dict())\n",
    "    user_info[\"user_id\"] = user_id\n",
    "    \n",
    "    return user_info.to_dict()"
   ]
  },
  {
   "cell_type": "markdown",
   "id": "d6f153b0-caac-4253-aed3-179ad43e0660",
   "metadata": {},
   "source": [
    "### Test report generation"
   ]
  },
  {
   "cell_type": "code",
   "execution_count": 9,
   "id": "c5e3328d-d72a-4701-ba76-17d71f9fcbb9",
   "metadata": {},
   "outputs": [
    {
     "name": "stdout",
     "output_type": "stream",
     "text": [
      "> 2025-01-27 23:01:02,817 [info] Invoking function: {\"method\":\"POST\",\"path\":\"http://nuclio-churn-agents-webinar-serving.default-tenant.svc.cluster.local:8080/v2/models/churn_model/predict\"}\n"
     ]
    },
    {
     "data": {
      "text/plain": [
       "{'account_length': '9 years, 9 months',\n",
       " 'total_charge_usage': 'medium',\n",
       " 'total_minutes_usage': 'medium',\n",
       " 'number_customer_service_calls': 2,\n",
       " 'sentiment_label': 'neutral',\n",
       " 'account_length_months': 117,\n",
       " 'churn_likelihood_percentage': 0.005,\n",
       " 'support_ticket_summary': 'The customer has voice, text, and data services and is looking to upgrade their phone due to it being slow for a while.',\n",
       " 'available_promotions': ['Bundle Offer: Add premium channels for $5/month',\n",
       "  'Anniversary Offer: 1 month free service'],\n",
       " 'user_id': 2296}"
      ]
     },
     "execution_count": 9,
     "metadata": {},
     "output_type": "execute_result"
    }
   ],
   "source": [
    "get_customer_insight_report(user_id=2296)"
   ]
  },
  {
   "cell_type": "code",
   "execution_count": 10,
   "id": "d90a5879-206f-45a6-884d-2c544ba4cf06",
   "metadata": {},
   "outputs": [
    {
     "name": "stdout",
     "output_type": "stream",
     "text": [
      "> 2025-01-27 23:01:03,427 [info] Invoking function: {\"method\":\"POST\",\"path\":\"http://nuclio-churn-agents-webinar-serving.default-tenant.svc.cluster.local:8080/v2/models/churn_model/predict\"}\n"
     ]
    },
    {
     "data": {
      "text/plain": [
       "{'account_length': '6 years, 7 months',\n",
       " 'total_charge_usage': 'medium-low',\n",
       " 'total_minutes_usage': 'medium',\n",
       " 'number_customer_service_calls': 5,\n",
       " 'sentiment_label': 'neutral',\n",
       " 'account_length_months': 79,\n",
       " 'churn_likelihood_percentage': 0.483,\n",
       " 'support_ticket_summary': 'The customer is concerned about the escalating cost of voice services impacting turnover and is looking for alternative options, but the TelCom agent offers free features instead, leading to the customer hanging up.',\n",
       " 'available_promotions': ['Service Credit: $10 off next bill',\n",
       "  'Bundle Offer: Add premium channels for $5/month',\n",
       "  'Anniversary Offer: 1 month free service'],\n",
       " 'user_id': 460}"
      ]
     },
     "execution_count": 10,
     "metadata": {},
     "output_type": "execute_result"
    }
   ],
   "source": [
    "get_customer_insight_report(user_id=460)"
   ]
  },
  {
   "cell_type": "code",
   "execution_count": 12,
   "id": "b2d8b7b0-e053-405b-908f-e2cce29c6fc7",
   "metadata": {},
   "outputs": [
    {
     "name": "stdout",
     "output_type": "stream",
     "text": [
      "> 2025-01-27 23:01:07,399 [info] Invoking function: {\"method\":\"POST\",\"path\":\"http://nuclio-churn-agents-webinar-serving.default-tenant.svc.cluster.local:8080/v2/models/churn_model/predict\"}\n"
     ]
    },
    {
     "data": {
      "text/plain": [
       "{'account_length': '10 years, 5 months',\n",
       " 'total_charge_usage': 'high',\n",
       " 'total_minutes_usage': 'high',\n",
       " 'number_customer_service_calls': 1,\n",
       " 'sentiment_label': 'negative',\n",
       " 'account_length_months': 125,\n",
       " 'churn_likelihood_percentage': 0.848,\n",
       " 'support_ticket_summary': 'Customer is frustrated with the poor customer service they have been receiving for their phone, despite not having any issues with the phone itself.',\n",
       " 'available_promotions': ['Retention Offer: 20% discount for 6 months',\n",
       "  'Loyalty Offer: Free international minutes',\n",
       "  'Anniversary Offer: 1 month free service'],\n",
       " 'user_id': 1902}"
      ]
     },
     "execution_count": 12,
     "metadata": {},
     "output_type": "execute_result"
    }
   ],
   "source": [
    "get_customer_insight_report(user_id=1902)"
   ]
  },
  {
   "cell_type": "code",
   "execution_count": null,
   "id": "ff45879e-f415-46aa-b3ec-5b813ea7232a",
   "metadata": {},
   "outputs": [],
   "source": []
  }
 ],
 "metadata": {
  "kernelspec": {
   "display_name": "churn-v2",
   "language": "python",
   "name": "conda-env-.conda-churn-v2-py"
  },
  "language_info": {
   "codemirror_mode": {
    "name": "ipython",
    "version": 3
   },
   "file_extension": ".py",
   "mimetype": "text/x-python",
   "name": "python",
   "nbconvert_exporter": "python",
   "pygments_lexer": "ipython3",
   "version": "3.9.21"
  }
 },
 "nbformat": 4,
 "nbformat_minor": 5
}
